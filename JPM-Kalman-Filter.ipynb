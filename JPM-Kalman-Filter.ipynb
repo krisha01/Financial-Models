{
 "cells": [
  {
   "cell_type": "code",
   "execution_count": 2,
   "metadata": {},
   "outputs": [],
   "source": [
    "import pandas as pd\n",
    "import numpy as np\n",
    "import matplotlib.pyplot as plt\n",
    "import scipy.stats as ss\n",
    "from scipy.optimize import minimize\n",
    "from sklearn.metrics import mean_squared_error\n",
    "from sklearn.metrics import r2_score"
   ]
  },
  {
   "cell_type": "code",
   "execution_count": 4,
   "metadata": {},
   "outputs": [],
   "source": [
    "df_jpm = pd.read_csv(r'C:\\Users\\krish\\Desktop\\Subjects\\AppliedML\\Lec-4\\JPM.csv')"
   ]
  },
  {
   "cell_type": "code",
   "execution_count": 5,
   "metadata": {},
   "outputs": [
    {
     "data": {
      "text/html": [
       "<div>\n",
       "<style scoped>\n",
       "    .dataframe tbody tr th:only-of-type {\n",
       "        vertical-align: middle;\n",
       "    }\n",
       "\n",
       "    .dataframe tbody tr th {\n",
       "        vertical-align: top;\n",
       "    }\n",
       "\n",
       "    .dataframe thead th {\n",
       "        text-align: right;\n",
       "    }\n",
       "</style>\n",
       "<table border=\"1\" class=\"dataframe\">\n",
       "  <thead>\n",
       "    <tr style=\"text-align: right;\">\n",
       "      <th></th>\n",
       "      <th>Date</th>\n",
       "      <th>Open</th>\n",
       "      <th>High</th>\n",
       "      <th>Low</th>\n",
       "      <th>Close</th>\n",
       "      <th>Adj Close</th>\n",
       "      <th>Volume</th>\n",
       "    </tr>\n",
       "  </thead>\n",
       "  <tbody>\n",
       "    <tr>\n",
       "      <th>0</th>\n",
       "      <td>2016-05-16</td>\n",
       "      <td>61.209999</td>\n",
       "      <td>61.990002</td>\n",
       "      <td>61.000000</td>\n",
       "      <td>61.660000</td>\n",
       "      <td>55.047691</td>\n",
       "      <td>10951300</td>\n",
       "    </tr>\n",
       "    <tr>\n",
       "      <th>1</th>\n",
       "      <td>2016-05-17</td>\n",
       "      <td>61.430000</td>\n",
       "      <td>62.160000</td>\n",
       "      <td>61.150002</td>\n",
       "      <td>61.660000</td>\n",
       "      <td>55.047691</td>\n",
       "      <td>12180900</td>\n",
       "    </tr>\n",
       "    <tr>\n",
       "      <th>2</th>\n",
       "      <td>2016-05-18</td>\n",
       "      <td>61.700001</td>\n",
       "      <td>64.169998</td>\n",
       "      <td>61.689999</td>\n",
       "      <td>64.040001</td>\n",
       "      <td>57.172466</td>\n",
       "      <td>24007100</td>\n",
       "    </tr>\n",
       "    <tr>\n",
       "      <th>3</th>\n",
       "      <td>2016-05-19</td>\n",
       "      <td>63.529999</td>\n",
       "      <td>64.220001</td>\n",
       "      <td>62.900002</td>\n",
       "      <td>63.389999</td>\n",
       "      <td>56.592175</td>\n",
       "      <td>16076200</td>\n",
       "    </tr>\n",
       "    <tr>\n",
       "      <th>4</th>\n",
       "      <td>2016-05-20</td>\n",
       "      <td>63.860001</td>\n",
       "      <td>64.190002</td>\n",
       "      <td>63.369999</td>\n",
       "      <td>63.509998</td>\n",
       "      <td>56.699303</td>\n",
       "      <td>11862000</td>\n",
       "    </tr>\n",
       "  </tbody>\n",
       "</table>\n",
       "</div>"
      ],
      "text/plain": [
       "         Date       Open       High        Low      Close  Adj Close    Volume\n",
       "0  2016-05-16  61.209999  61.990002  61.000000  61.660000  55.047691  10951300\n",
       "1  2016-05-17  61.430000  62.160000  61.150002  61.660000  55.047691  12180900\n",
       "2  2016-05-18  61.700001  64.169998  61.689999  64.040001  57.172466  24007100\n",
       "3  2016-05-19  63.529999  64.220001  62.900002  63.389999  56.592175  16076200\n",
       "4  2016-05-20  63.860001  64.190002  63.369999  63.509998  56.699303  11862000"
      ]
     },
     "execution_count": 5,
     "metadata": {},
     "output_type": "execute_result"
    }
   ],
   "source": [
    "df_jpm.head()"
   ]
  },
  {
   "cell_type": "code",
   "execution_count": 1,
   "metadata": {},
   "outputs": [
    {
     "ename": "NameError",
     "evalue": "name 'plt' is not defined",
     "output_type": "error",
     "traceback": [
      "\u001b[1;31m---------------------------------------------------------------------------\u001b[0m",
      "\u001b[1;31mNameError\u001b[0m                                 Traceback (most recent call last)",
      "\u001b[1;32m<ipython-input-1-d17685304d47>\u001b[0m in \u001b[0;36m<module>\u001b[1;34m\u001b[0m\n\u001b[0;32m     75\u001b[0m \u001b[1;33m\u001b[0m\u001b[0m\n\u001b[0;32m     76\u001b[0m \u001b[1;33m\u001b[0m\u001b[0m\n\u001b[1;32m---> 77\u001b[1;33m \u001b[0mplt\u001b[0m\u001b[1;33m.\u001b[0m\u001b[0mfigure\u001b[0m\u001b[1;33m(\u001b[0m\u001b[0mfigsize\u001b[0m\u001b[1;33m=\u001b[0m\u001b[1;33m(\u001b[0m\u001b[1;36m30\u001b[0m\u001b[1;33m,\u001b[0m\u001b[1;36m10\u001b[0m\u001b[1;33m)\u001b[0m\u001b[1;33m)\u001b[0m\u001b[1;33m\u001b[0m\u001b[1;33m\u001b[0m\u001b[0m\n\u001b[0m\u001b[0;32m     78\u001b[0m \u001b[0mplt\u001b[0m\u001b[1;33m.\u001b[0m\u001b[0mtitle\u001b[0m\u001b[1;33m(\u001b[0m\u001b[1;34m'Log Return'\u001b[0m\u001b[1;33m)\u001b[0m\u001b[1;33m\u001b[0m\u001b[1;33m\u001b[0m\u001b[0m\n\u001b[0;32m     79\u001b[0m \u001b[0mp_t\u001b[0m \u001b[1;33m=\u001b[0m \u001b[0mdf_jpm\u001b[0m\u001b[1;33m[\u001b[0m\u001b[1;34m'stock_return'\u001b[0m\u001b[1;33m]\u001b[0m\u001b[1;33m\u001b[0m\u001b[1;33m\u001b[0m\u001b[0m\n",
      "\u001b[1;31mNameError\u001b[0m: name 'plt' is not defined"
     ]
    }
   ],
   "source": [
    "#(Close price today/  yest close price-1)\n",
    "#Sum of squared error \n",
    "\n",
    "def Kalman_Filter(Y):\n",
    "    S = Y.shape[0]\n",
    "    S = S + 1\n",
    "    \"Initialize Params:\"\n",
    "    Z = param0[0]#parameter coeff env eq link Y and component\n",
    "    T = param0[1]# auto regressive comp\n",
    "    H = param0[2]#volatility\n",
    "    Q = param0[3]\n",
    "    #temp = param0[4]\n",
    "    \"Kalman Filter Starts:\"\n",
    "    u_predict = np.zeros(S)\n",
    "    u_update = np.zeros(S)\n",
    "    P_predict = np.zeros(S)\n",
    "    P_update = np.zeros(S)\n",
    "    v = np.zeros(S)\n",
    "    F = np.zeros(S)\n",
    "    KF_Dens = np.zeros(S)\n",
    "    for s in range(1,S):\n",
    "        if s == 1: \n",
    "            P_update[s] = 1000\n",
    "            P_predict[s] =  T*P_update[1]*np.transpose(T)+Q    \n",
    "        else: \n",
    "            F[s] = Z*P_predict[s-1]*np.transpose(Z)+H \n",
    "            v[s]=Y[s-1]-Z*u_predict[s-1] \n",
    "            u_update[s] = u_predict[s-1]+P_predict[s-1]*np.transpose(Z)*(1/F[s])*v[s]\n",
    "            u_predict[s] = T*u_update[s]; \n",
    "            P_update[s] = P_predict[s-1]-P_predict[s-1]*np.transpose(Z)*(1/F[s])*Z*P_predict[s-1];\n",
    "            P_predict[s] = T*P_update[s]*np.transpose(T)+Q\n",
    "            KF_Dens[s] = (1/2)*np.log(2*np.pi)+(1/2)*np.log(abs(F[s]))+(1/2)*np.transpose(v[s])*(1/F[s])*v[s]     \n",
    "            Likelihood = np.sum(KF_Dens[1:-1])  \n",
    "            return Likelihood\n",
    "\n",
    "\n",
    "def Kalman_Smoother(params, Y):\n",
    "    S = Y.shape[0]\n",
    "    S = S + 1\n",
    "    \"Initialize Params:\"\n",
    "    Z = params[0]\n",
    "    T = params[1]\n",
    "    H = params[2]\n",
    "    Q = params[3]\n",
    "    #temp = params[4]\n",
    "    \"Kalman Filter Starts:\"\n",
    "    u_predict = np.zeros(S)\n",
    "    u_update = np.zeros(S)\n",
    "    P_predict = np.zeros(S)\n",
    "    P_update = np.zeros(S)\n",
    "    v = np.zeros(S)\n",
    "    F = np.zeros(S)\n",
    "    for s in range(1,S):\n",
    "        if s == 1: \n",
    "            P_update[s] = 1000\n",
    "            P_predict[s] =  T*P_update[1]*np.transpose(T)+Q    \n",
    "        else: \n",
    "            F[s] = Z*P_predict[s-1]*np.transpose(Z)+H \n",
    "            v[s]=Y[s-1]-Z*u_predict[s-1]    \n",
    "            u_update[s] = u_predict[s-1]+P_predict[s-1]*np.transpose(Z)*(1/F[s])*v[s]\n",
    "            u_predict[s] = T*u_update[s]; \n",
    "            P_update[s] = P_predict[s-1]-P_predict[s-1]*np.transpose(Z)*(1/F[s])*Z*P_predict[s-1];\n",
    "            P_predict[s] = T*P_update[s]*np.transpose(T)+Q\n",
    "\n",
    "            u_smooth = np.zeros(S)\n",
    "            P_smooth = np.zeros(S)\n",
    "            u_smooth[S-1] = u_update[S-1]\n",
    "            P_smooth[S-1] = P_update[S-1]    \n",
    "    for  t in range(S-1,0,-1):\n",
    "        u_smooth[t-1] = u_update[t] + P_update[t]*np.transpose(T)/P_predict[t]*(u_smooth[t]-T*u_update[t])\n",
    "        P_smooth[t-1] = P_update[t] + P_update[t]*np.transpose(T)/P_predict[t]*(P_smooth[t]-P_predict[t])/P_predict[t]*T*P_update[t]\n",
    "    u_smooth = u_smooth[0:-1]\n",
    "    return u_smooth\n",
    "\n",
    "\n",
    "\n",
    "plt.figure(figsize=(30,10))\n",
    "plt.title('Log Return')\n",
    "p_t = df_jpm['stock_return']\n",
    "T = df_jpm.shape[0]\n",
    "Y=p_t\n",
    "param0 = np.array([1.3, 1, 0.8, 1])\n",
    "param_star = minimize(Kalman_Filter, param0, method='BFGS', options={'xtol': 1e-8, 'disp': True})\n",
    "y_pred = Kalman_Smoother(param_star.x, Y)\n",
    "timevec = np.linspace(1,T,T)\n",
    "plt.plot(timevec, y_pred,'r',timevec, Y,'b:')"
   ]
  },
  {
   "cell_type": "code",
   "execution_count": 7,
   "metadata": {},
   "outputs": [
    {
     "name": "stdout",
     "output_type": "stream",
     "text": [
      "RMSE------- 0.008740972718984273\n",
      "R-Squared-- 0.7714935920475364\n"
     ]
    }
   ],
   "source": [
    "mse = mean_squared_error(Y,y_pred)\n",
    "rmse = np.sqrt(mse)\n",
    "print('RMSE-------',rmse)\n",
    "print('R-Squared--',r2_score(Y,y_pred))"
   ]
  },
  {
   "cell_type": "code",
   "execution_count": null,
   "metadata": {},
   "outputs": [],
   "source": []
  },
  {
   "cell_type": "code",
   "execution_count": null,
   "metadata": {},
   "outputs": [],
   "source": []
  }
 ],
 "metadata": {
  "kernelspec": {
   "display_name": "Python 3",
   "language": "python",
   "name": "python3"
  },
  "language_info": {
   "codemirror_mode": {
    "name": "ipython",
    "version": 3
   },
   "file_extension": ".py",
   "mimetype": "text/x-python",
   "name": "python",
   "nbconvert_exporter": "python",
   "pygments_lexer": "ipython3",
   "version": "3.7.6"
  }
 },
 "nbformat": 4,
 "nbformat_minor": 2
}
