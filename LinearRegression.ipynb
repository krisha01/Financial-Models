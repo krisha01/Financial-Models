{
 "cells": [
  {
   "cell_type": "markdown",
   "metadata": {},
   "source": [
    "# LINEAR REGRESSION WITH Y-JPM data and X-fama French 3 factor"
   ]
  },
  {
   "cell_type": "markdown",
   "metadata": {},
   "source": [
    "### Fama French 3 Factor model"
   ]
  },
  {
   "cell_type": "markdown",
   "metadata": {},
   "source": [
    "    An asset pricing model developed in 1992\n",
    "    It expands on the capital asset pricing model (CAPM) by adding size risk and value risk factors to the market risk factor in CAPM"
   ]
  },
  {
   "cell_type": "markdown",
   "metadata": {},
   "source": [
    "Factors\n",
    "    1. Datatime\n",
    "    2. MKT-RF - excess return  on the market\n",
    "    3. SMB - Avg return of small minus big portfolios\n",
    "    4. HML - high minus low avg return value of port - growth portfolios\n",
    "    5. RMW -  diff between returns of firms  with high and low prob\n",
    "These factors will be considered as X which are independent variable that will be used against JPM data (Y)"
   ]
  },
  {
   "cell_type": "code",
   "execution_count": 93,
   "metadata": {},
   "outputs": [],
   "source": [
    "import pandas as pd\n",
    "import matplotlib.pyplot as plt\n",
    "import numpy as np\n",
    "import scipy.stats as ss"
   ]
  },
  {
   "cell_type": "code",
   "execution_count": 94,
   "metadata": {},
   "outputs": [],
   "source": [
    "df_fama = pd.read_csv ('FF3factors.csv')"
   ]
  },
  {
   "cell_type": "code",
   "execution_count": 95,
   "metadata": {
    "scrolled": true
   },
   "outputs": [
    {
     "data": {
      "text/html": [
       "<div>\n",
       "<style scoped>\n",
       "    .dataframe tbody tr th:only-of-type {\n",
       "        vertical-align: middle;\n",
       "    }\n",
       "\n",
       "    .dataframe tbody tr th {\n",
       "        vertical-align: top;\n",
       "    }\n",
       "\n",
       "    .dataframe thead th {\n",
       "        text-align: right;\n",
       "    }\n",
       "</style>\n",
       "<table border=\"1\" class=\"dataframe\">\n",
       "  <thead>\n",
       "    <tr style=\"text-align: right;\">\n",
       "      <th></th>\n",
       "      <th>Date</th>\n",
       "      <th>Mkt-RF</th>\n",
       "      <th>SMB</th>\n",
       "      <th>HML</th>\n",
       "      <th>RF</th>\n",
       "    </tr>\n",
       "  </thead>\n",
       "  <tbody>\n",
       "    <tr>\n",
       "      <th>0</th>\n",
       "      <td>19260701</td>\n",
       "      <td>0.10</td>\n",
       "      <td>-0.24</td>\n",
       "      <td>-0.28</td>\n",
       "      <td>0.009</td>\n",
       "    </tr>\n",
       "    <tr>\n",
       "      <th>1</th>\n",
       "      <td>19260702</td>\n",
       "      <td>0.45</td>\n",
       "      <td>-0.32</td>\n",
       "      <td>-0.08</td>\n",
       "      <td>0.009</td>\n",
       "    </tr>\n",
       "    <tr>\n",
       "      <th>2</th>\n",
       "      <td>19260706</td>\n",
       "      <td>0.17</td>\n",
       "      <td>0.27</td>\n",
       "      <td>-0.35</td>\n",
       "      <td>0.009</td>\n",
       "    </tr>\n",
       "    <tr>\n",
       "      <th>3</th>\n",
       "      <td>19260707</td>\n",
       "      <td>0.09</td>\n",
       "      <td>-0.59</td>\n",
       "      <td>0.03</td>\n",
       "      <td>0.009</td>\n",
       "    </tr>\n",
       "    <tr>\n",
       "      <th>4</th>\n",
       "      <td>19260708</td>\n",
       "      <td>0.21</td>\n",
       "      <td>-0.36</td>\n",
       "      <td>0.15</td>\n",
       "      <td>0.009</td>\n",
       "    </tr>\n",
       "  </tbody>\n",
       "</table>\n",
       "</div>"
      ],
      "text/plain": [
       "       Date  Mkt-RF   SMB   HML     RF\n",
       "0  19260701    0.10 -0.24 -0.28  0.009\n",
       "1  19260702    0.45 -0.32 -0.08  0.009\n",
       "2  19260706    0.17  0.27 -0.35  0.009\n",
       "3  19260707    0.09 -0.59  0.03  0.009\n",
       "4  19260708    0.21 -0.36  0.15  0.009"
      ]
     },
     "execution_count": 95,
     "metadata": {},
     "output_type": "execute_result"
    }
   ],
   "source": [
    "df_fama.head()"
   ]
  },
  {
   "cell_type": "code",
   "execution_count": 96,
   "metadata": {},
   "outputs": [],
   "source": [
    "df_fama = df_fama[df_fama.Date > 20160515]"
   ]
  },
  {
   "cell_type": "code",
   "execution_count": 97,
   "metadata": {},
   "outputs": [
    {
     "data": {
      "text/plain": [
       "(997, 5)"
      ]
     },
     "execution_count": 97,
     "metadata": {},
     "output_type": "execute_result"
    }
   ],
   "source": [
    "df_fama.shape"
   ]
  },
  {
   "cell_type": "code",
   "execution_count": 98,
   "metadata": {},
   "outputs": [
    {
     "data": {
      "text/html": [
       "<div>\n",
       "<style scoped>\n",
       "    .dataframe tbody tr th:only-of-type {\n",
       "        vertical-align: middle;\n",
       "    }\n",
       "\n",
       "    .dataframe tbody tr th {\n",
       "        vertical-align: top;\n",
       "    }\n",
       "\n",
       "    .dataframe thead th {\n",
       "        text-align: right;\n",
       "    }\n",
       "</style>\n",
       "<table border=\"1\" class=\"dataframe\">\n",
       "  <thead>\n",
       "    <tr style=\"text-align: right;\">\n",
       "      <th></th>\n",
       "      <th>Date</th>\n",
       "      <th>Mkt-RF</th>\n",
       "      <th>SMB</th>\n",
       "      <th>HML</th>\n",
       "      <th>RF</th>\n",
       "    </tr>\n",
       "  </thead>\n",
       "  <tbody>\n",
       "    <tr>\n",
       "      <th>23729</th>\n",
       "      <td>20160516</td>\n",
       "      <td>0.99</td>\n",
       "      <td>0.28</td>\n",
       "      <td>-0.24</td>\n",
       "      <td>0.001</td>\n",
       "    </tr>\n",
       "    <tr>\n",
       "      <th>23730</th>\n",
       "      <td>20160517</td>\n",
       "      <td>-0.95</td>\n",
       "      <td>-0.78</td>\n",
       "      <td>0.61</td>\n",
       "      <td>0.001</td>\n",
       "    </tr>\n",
       "    <tr>\n",
       "      <th>23731</th>\n",
       "      <td>20160518</td>\n",
       "      <td>0.10</td>\n",
       "      <td>0.10</td>\n",
       "      <td>0.83</td>\n",
       "      <td>0.001</td>\n",
       "    </tr>\n",
       "    <tr>\n",
       "      <th>23732</th>\n",
       "      <td>20160519</td>\n",
       "      <td>-0.33</td>\n",
       "      <td>-0.32</td>\n",
       "      <td>-0.30</td>\n",
       "      <td>0.001</td>\n",
       "    </tr>\n",
       "    <tr>\n",
       "      <th>23733</th>\n",
       "      <td>20160520</td>\n",
       "      <td>0.75</td>\n",
       "      <td>0.90</td>\n",
       "      <td>-0.30</td>\n",
       "      <td>0.001</td>\n",
       "    </tr>\n",
       "  </tbody>\n",
       "</table>\n",
       "</div>"
      ],
      "text/plain": [
       "           Date  Mkt-RF   SMB   HML     RF\n",
       "23729  20160516    0.99  0.28 -0.24  0.001\n",
       "23730  20160517   -0.95 -0.78  0.61  0.001\n",
       "23731  20160518    0.10  0.10  0.83  0.001\n",
       "23732  20160519   -0.33 -0.32 -0.30  0.001\n",
       "23733  20160520    0.75  0.90 -0.30  0.001"
      ]
     },
     "execution_count": 98,
     "metadata": {},
     "output_type": "execute_result"
    }
   ],
   "source": [
    "df_fama.head()"
   ]
  },
  {
   "cell_type": "code",
   "execution_count": 99,
   "metadata": {},
   "outputs": [
    {
     "data": {
      "text/html": [
       "<div>\n",
       "<style scoped>\n",
       "    .dataframe tbody tr th:only-of-type {\n",
       "        vertical-align: middle;\n",
       "    }\n",
       "\n",
       "    .dataframe tbody tr th {\n",
       "        vertical-align: top;\n",
       "    }\n",
       "\n",
       "    .dataframe thead th {\n",
       "        text-align: right;\n",
       "    }\n",
       "</style>\n",
       "<table border=\"1\" class=\"dataframe\">\n",
       "  <thead>\n",
       "    <tr style=\"text-align: right;\">\n",
       "      <th></th>\n",
       "      <th>Date</th>\n",
       "      <th>Mkt-RF</th>\n",
       "      <th>SMB</th>\n",
       "      <th>HML</th>\n",
       "      <th>RF</th>\n",
       "    </tr>\n",
       "  </thead>\n",
       "  <tbody>\n",
       "    <tr>\n",
       "      <th>24721</th>\n",
       "      <td>20200424</td>\n",
       "      <td>1.44</td>\n",
       "      <td>0.32</td>\n",
       "      <td>-0.09</td>\n",
       "      <td>0.0</td>\n",
       "    </tr>\n",
       "    <tr>\n",
       "      <th>24722</th>\n",
       "      <td>20200427</td>\n",
       "      <td>1.73</td>\n",
       "      <td>1.65</td>\n",
       "      <td>2.74</td>\n",
       "      <td>0.0</td>\n",
       "    </tr>\n",
       "    <tr>\n",
       "      <th>24723</th>\n",
       "      <td>20200428</td>\n",
       "      <td>-0.44</td>\n",
       "      <td>0.87</td>\n",
       "      <td>2.89</td>\n",
       "      <td>0.0</td>\n",
       "    </tr>\n",
       "    <tr>\n",
       "      <th>24724</th>\n",
       "      <td>20200429</td>\n",
       "      <td>2.92</td>\n",
       "      <td>1.87</td>\n",
       "      <td>2.04</td>\n",
       "      <td>0.0</td>\n",
       "    </tr>\n",
       "    <tr>\n",
       "      <th>24725</th>\n",
       "      <td>20200430</td>\n",
       "      <td>-1.18</td>\n",
       "      <td>-1.42</td>\n",
       "      <td>-1.63</td>\n",
       "      <td>0.0</td>\n",
       "    </tr>\n",
       "  </tbody>\n",
       "</table>\n",
       "</div>"
      ],
      "text/plain": [
       "           Date  Mkt-RF   SMB   HML   RF\n",
       "24721  20200424    1.44  0.32 -0.09  0.0\n",
       "24722  20200427    1.73  1.65  2.74  0.0\n",
       "24723  20200428   -0.44  0.87  2.89  0.0\n",
       "24724  20200429    2.92  1.87  2.04  0.0\n",
       "24725  20200430   -1.18 -1.42 -1.63  0.0"
      ]
     },
     "execution_count": 99,
     "metadata": {},
     "output_type": "execute_result"
    }
   ],
   "source": [
    "df_fama.tail()"
   ]
  },
  {
   "cell_type": "code",
   "execution_count": 100,
   "metadata": {},
   "outputs": [],
   "source": [
    "df_fama.index = range(0, 997, 1)"
   ]
  },
  {
   "cell_type": "code",
   "execution_count": 101,
   "metadata": {},
   "outputs": [
    {
     "data": {
      "text/html": [
       "<div>\n",
       "<style scoped>\n",
       "    .dataframe tbody tr th:only-of-type {\n",
       "        vertical-align: middle;\n",
       "    }\n",
       "\n",
       "    .dataframe tbody tr th {\n",
       "        vertical-align: top;\n",
       "    }\n",
       "\n",
       "    .dataframe thead th {\n",
       "        text-align: right;\n",
       "    }\n",
       "</style>\n",
       "<table border=\"1\" class=\"dataframe\">\n",
       "  <thead>\n",
       "    <tr style=\"text-align: right;\">\n",
       "      <th></th>\n",
       "      <th>Date</th>\n",
       "      <th>Mkt-RF</th>\n",
       "      <th>SMB</th>\n",
       "      <th>HML</th>\n",
       "      <th>RF</th>\n",
       "    </tr>\n",
       "  </thead>\n",
       "  <tbody>\n",
       "    <tr>\n",
       "      <th>0</th>\n",
       "      <td>20160516</td>\n",
       "      <td>0.99</td>\n",
       "      <td>0.28</td>\n",
       "      <td>-0.24</td>\n",
       "      <td>0.001</td>\n",
       "    </tr>\n",
       "    <tr>\n",
       "      <th>1</th>\n",
       "      <td>20160517</td>\n",
       "      <td>-0.95</td>\n",
       "      <td>-0.78</td>\n",
       "      <td>0.61</td>\n",
       "      <td>0.001</td>\n",
       "    </tr>\n",
       "    <tr>\n",
       "      <th>2</th>\n",
       "      <td>20160518</td>\n",
       "      <td>0.10</td>\n",
       "      <td>0.10</td>\n",
       "      <td>0.83</td>\n",
       "      <td>0.001</td>\n",
       "    </tr>\n",
       "    <tr>\n",
       "      <th>3</th>\n",
       "      <td>20160519</td>\n",
       "      <td>-0.33</td>\n",
       "      <td>-0.32</td>\n",
       "      <td>-0.30</td>\n",
       "      <td>0.001</td>\n",
       "    </tr>\n",
       "    <tr>\n",
       "      <th>4</th>\n",
       "      <td>20160520</td>\n",
       "      <td>0.75</td>\n",
       "      <td>0.90</td>\n",
       "      <td>-0.30</td>\n",
       "      <td>0.001</td>\n",
       "    </tr>\n",
       "  </tbody>\n",
       "</table>\n",
       "</div>"
      ],
      "text/plain": [
       "       Date  Mkt-RF   SMB   HML     RF\n",
       "0  20160516    0.99  0.28 -0.24  0.001\n",
       "1  20160517   -0.95 -0.78  0.61  0.001\n",
       "2  20160518    0.10  0.10  0.83  0.001\n",
       "3  20160519   -0.33 -0.32 -0.30  0.001\n",
       "4  20160520    0.75  0.90 -0.30  0.001"
      ]
     },
     "execution_count": 101,
     "metadata": {},
     "output_type": "execute_result"
    }
   ],
   "source": [
    "df_fama.head()"
   ]
  },
  {
   "cell_type": "code",
   "execution_count": 102,
   "metadata": {},
   "outputs": [],
   "source": [
    "df_jpm = pd.read_csv('JPM.csv')"
   ]
  },
  {
   "cell_type": "code",
   "execution_count": 103,
   "metadata": {},
   "outputs": [
    {
     "data": {
      "text/html": [
       "<div>\n",
       "<style scoped>\n",
       "    .dataframe tbody tr th:only-of-type {\n",
       "        vertical-align: middle;\n",
       "    }\n",
       "\n",
       "    .dataframe tbody tr th {\n",
       "        vertical-align: top;\n",
       "    }\n",
       "\n",
       "    .dataframe thead th {\n",
       "        text-align: right;\n",
       "    }\n",
       "</style>\n",
       "<table border=\"1\" class=\"dataframe\">\n",
       "  <thead>\n",
       "    <tr style=\"text-align: right;\">\n",
       "      <th></th>\n",
       "      <th>Date</th>\n",
       "      <th>Open</th>\n",
       "      <th>High</th>\n",
       "      <th>Low</th>\n",
       "      <th>Close</th>\n",
       "      <th>Adj Close</th>\n",
       "      <th>Volume</th>\n",
       "    </tr>\n",
       "  </thead>\n",
       "  <tbody>\n",
       "    <tr>\n",
       "      <th>0</th>\n",
       "      <td>2016-05-16</td>\n",
       "      <td>61.209999</td>\n",
       "      <td>61.990002</td>\n",
       "      <td>61.000000</td>\n",
       "      <td>61.660000</td>\n",
       "      <td>55.047691</td>\n",
       "      <td>10951300</td>\n",
       "    </tr>\n",
       "    <tr>\n",
       "      <th>1</th>\n",
       "      <td>2016-05-17</td>\n",
       "      <td>61.430000</td>\n",
       "      <td>62.160000</td>\n",
       "      <td>61.150002</td>\n",
       "      <td>61.660000</td>\n",
       "      <td>55.047691</td>\n",
       "      <td>12180900</td>\n",
       "    </tr>\n",
       "    <tr>\n",
       "      <th>2</th>\n",
       "      <td>2016-05-18</td>\n",
       "      <td>61.700001</td>\n",
       "      <td>64.169998</td>\n",
       "      <td>61.689999</td>\n",
       "      <td>64.040001</td>\n",
       "      <td>57.172466</td>\n",
       "      <td>24007100</td>\n",
       "    </tr>\n",
       "    <tr>\n",
       "      <th>3</th>\n",
       "      <td>2016-05-19</td>\n",
       "      <td>63.529999</td>\n",
       "      <td>64.220001</td>\n",
       "      <td>62.900002</td>\n",
       "      <td>63.389999</td>\n",
       "      <td>56.592175</td>\n",
       "      <td>16076200</td>\n",
       "    </tr>\n",
       "    <tr>\n",
       "      <th>4</th>\n",
       "      <td>2016-05-20</td>\n",
       "      <td>63.860001</td>\n",
       "      <td>64.190002</td>\n",
       "      <td>63.369999</td>\n",
       "      <td>63.509998</td>\n",
       "      <td>56.699303</td>\n",
       "      <td>11862000</td>\n",
       "    </tr>\n",
       "  </tbody>\n",
       "</table>\n",
       "</div>"
      ],
      "text/plain": [
       "         Date       Open       High        Low      Close  Adj Close    Volume\n",
       "0  2016-05-16  61.209999  61.990002  61.000000  61.660000  55.047691  10951300\n",
       "1  2016-05-17  61.430000  62.160000  61.150002  61.660000  55.047691  12180900\n",
       "2  2016-05-18  61.700001  64.169998  61.689999  64.040001  57.172466  24007100\n",
       "3  2016-05-19  63.529999  64.220001  62.900002  63.389999  56.592175  16076200\n",
       "4  2016-05-20  63.860001  64.190002  63.369999  63.509998  56.699303  11862000"
      ]
     },
     "execution_count": 103,
     "metadata": {},
     "output_type": "execute_result"
    }
   ],
   "source": [
    "df_jpm.head()"
   ]
  },
  {
   "cell_type": "code",
   "execution_count": 104,
   "metadata": {},
   "outputs": [],
   "source": [
    "df_jpm = df_jpm[df_jpm.Date <= '2020-04-30']"
   ]
  },
  {
   "cell_type": "code",
   "execution_count": 105,
   "metadata": {},
   "outputs": [
    {
     "data": {
      "text/plain": [
       "(997, 7)"
      ]
     },
     "execution_count": 105,
     "metadata": {},
     "output_type": "execute_result"
    }
   ],
   "source": [
    "df_jpm.shape"
   ]
  },
  {
   "cell_type": "code",
   "execution_count": 106,
   "metadata": {},
   "outputs": [
    {
     "data": {
      "text/html": [
       "<div>\n",
       "<style scoped>\n",
       "    .dataframe tbody tr th:only-of-type {\n",
       "        vertical-align: middle;\n",
       "    }\n",
       "\n",
       "    .dataframe tbody tr th {\n",
       "        vertical-align: top;\n",
       "    }\n",
       "\n",
       "    .dataframe thead th {\n",
       "        text-align: right;\n",
       "    }\n",
       "</style>\n",
       "<table border=\"1\" class=\"dataframe\">\n",
       "  <thead>\n",
       "    <tr style=\"text-align: right;\">\n",
       "      <th></th>\n",
       "      <th>Date</th>\n",
       "      <th>Open</th>\n",
       "      <th>High</th>\n",
       "      <th>Low</th>\n",
       "      <th>Close</th>\n",
       "      <th>Adj Close</th>\n",
       "      <th>Volume</th>\n",
       "    </tr>\n",
       "  </thead>\n",
       "  <tbody>\n",
       "    <tr>\n",
       "      <th>0</th>\n",
       "      <td>2016-05-16</td>\n",
       "      <td>61.209999</td>\n",
       "      <td>61.990002</td>\n",
       "      <td>61.000000</td>\n",
       "      <td>61.660000</td>\n",
       "      <td>55.047691</td>\n",
       "      <td>10951300</td>\n",
       "    </tr>\n",
       "    <tr>\n",
       "      <th>1</th>\n",
       "      <td>2016-05-17</td>\n",
       "      <td>61.430000</td>\n",
       "      <td>62.160000</td>\n",
       "      <td>61.150002</td>\n",
       "      <td>61.660000</td>\n",
       "      <td>55.047691</td>\n",
       "      <td>12180900</td>\n",
       "    </tr>\n",
       "    <tr>\n",
       "      <th>2</th>\n",
       "      <td>2016-05-18</td>\n",
       "      <td>61.700001</td>\n",
       "      <td>64.169998</td>\n",
       "      <td>61.689999</td>\n",
       "      <td>64.040001</td>\n",
       "      <td>57.172466</td>\n",
       "      <td>24007100</td>\n",
       "    </tr>\n",
       "    <tr>\n",
       "      <th>3</th>\n",
       "      <td>2016-05-19</td>\n",
       "      <td>63.529999</td>\n",
       "      <td>64.220001</td>\n",
       "      <td>62.900002</td>\n",
       "      <td>63.389999</td>\n",
       "      <td>56.592175</td>\n",
       "      <td>16076200</td>\n",
       "    </tr>\n",
       "    <tr>\n",
       "      <th>4</th>\n",
       "      <td>2016-05-20</td>\n",
       "      <td>63.860001</td>\n",
       "      <td>64.190002</td>\n",
       "      <td>63.369999</td>\n",
       "      <td>63.509998</td>\n",
       "      <td>56.699303</td>\n",
       "      <td>11862000</td>\n",
       "    </tr>\n",
       "  </tbody>\n",
       "</table>\n",
       "</div>"
      ],
      "text/plain": [
       "         Date       Open       High        Low      Close  Adj Close    Volume\n",
       "0  2016-05-16  61.209999  61.990002  61.000000  61.660000  55.047691  10951300\n",
       "1  2016-05-17  61.430000  62.160000  61.150002  61.660000  55.047691  12180900\n",
       "2  2016-05-18  61.700001  64.169998  61.689999  64.040001  57.172466  24007100\n",
       "3  2016-05-19  63.529999  64.220001  62.900002  63.389999  56.592175  16076200\n",
       "4  2016-05-20  63.860001  64.190002  63.369999  63.509998  56.699303  11862000"
      ]
     },
     "execution_count": 106,
     "metadata": {},
     "output_type": "execute_result"
    }
   ],
   "source": [
    "df_jpm.head()"
   ]
  },
  {
   "cell_type": "code",
   "execution_count": 107,
   "metadata": {},
   "outputs": [
    {
     "data": {
      "text/html": [
       "<div>\n",
       "<style scoped>\n",
       "    .dataframe tbody tr th:only-of-type {\n",
       "        vertical-align: middle;\n",
       "    }\n",
       "\n",
       "    .dataframe tbody tr th {\n",
       "        vertical-align: top;\n",
       "    }\n",
       "\n",
       "    .dataframe thead th {\n",
       "        text-align: right;\n",
       "    }\n",
       "</style>\n",
       "<table border=\"1\" class=\"dataframe\">\n",
       "  <thead>\n",
       "    <tr style=\"text-align: right;\">\n",
       "      <th></th>\n",
       "      <th>Date</th>\n",
       "      <th>Open</th>\n",
       "      <th>High</th>\n",
       "      <th>Low</th>\n",
       "      <th>Close</th>\n",
       "      <th>Adj Close</th>\n",
       "      <th>Volume</th>\n",
       "    </tr>\n",
       "  </thead>\n",
       "  <tbody>\n",
       "    <tr>\n",
       "      <th>992</th>\n",
       "      <td>2020-04-24</td>\n",
       "      <td>90.639999</td>\n",
       "      <td>91.099998</td>\n",
       "      <td>88.489998</td>\n",
       "      <td>90.709999</td>\n",
       "      <td>90.709999</td>\n",
       "      <td>15815300</td>\n",
       "    </tr>\n",
       "    <tr>\n",
       "      <th>993</th>\n",
       "      <td>2020-04-27</td>\n",
       "      <td>91.940002</td>\n",
       "      <td>95.629997</td>\n",
       "      <td>91.540001</td>\n",
       "      <td>94.620003</td>\n",
       "      <td>94.620003</td>\n",
       "      <td>22870200</td>\n",
       "    </tr>\n",
       "    <tr>\n",
       "      <th>994</th>\n",
       "      <td>2020-04-28</td>\n",
       "      <td>97.809998</td>\n",
       "      <td>98.360001</td>\n",
       "      <td>95.029999</td>\n",
       "      <td>95.290001</td>\n",
       "      <td>95.290001</td>\n",
       "      <td>20238900</td>\n",
       "    </tr>\n",
       "    <tr>\n",
       "      <th>995</th>\n",
       "      <td>2020-04-29</td>\n",
       "      <td>99.080002</td>\n",
       "      <td>99.449997</td>\n",
       "      <td>97.269997</td>\n",
       "      <td>97.860001</td>\n",
       "      <td>97.860001</td>\n",
       "      <td>20462600</td>\n",
       "    </tr>\n",
       "    <tr>\n",
       "      <th>996</th>\n",
       "      <td>2020-04-30</td>\n",
       "      <td>95.599998</td>\n",
       "      <td>96.839996</td>\n",
       "      <td>94.550003</td>\n",
       "      <td>95.760002</td>\n",
       "      <td>95.760002</td>\n",
       "      <td>19127600</td>\n",
       "    </tr>\n",
       "  </tbody>\n",
       "</table>\n",
       "</div>"
      ],
      "text/plain": [
       "           Date       Open       High        Low      Close  Adj Close  \\\n",
       "992  2020-04-24  90.639999  91.099998  88.489998  90.709999  90.709999   \n",
       "993  2020-04-27  91.940002  95.629997  91.540001  94.620003  94.620003   \n",
       "994  2020-04-28  97.809998  98.360001  95.029999  95.290001  95.290001   \n",
       "995  2020-04-29  99.080002  99.449997  97.269997  97.860001  97.860001   \n",
       "996  2020-04-30  95.599998  96.839996  94.550003  95.760002  95.760002   \n",
       "\n",
       "       Volume  \n",
       "992  15815300  \n",
       "993  22870200  \n",
       "994  20238900  \n",
       "995  20462600  \n",
       "996  19127600  "
      ]
     },
     "execution_count": 107,
     "metadata": {},
     "output_type": "execute_result"
    }
   ],
   "source": [
    "df_jpm.tail()"
   ]
  },
  {
   "cell_type": "code",
   "execution_count": 108,
   "metadata": {},
   "outputs": [],
   "source": [
    "df_jpm['MktRF'] = df_fama['Mkt-RF']"
   ]
  },
  {
   "cell_type": "code",
   "execution_count": 109,
   "metadata": {},
   "outputs": [
    {
     "data": {
      "text/html": [
       "<div>\n",
       "<style scoped>\n",
       "    .dataframe tbody tr th:only-of-type {\n",
       "        vertical-align: middle;\n",
       "    }\n",
       "\n",
       "    .dataframe tbody tr th {\n",
       "        vertical-align: top;\n",
       "    }\n",
       "\n",
       "    .dataframe thead th {\n",
       "        text-align: right;\n",
       "    }\n",
       "</style>\n",
       "<table border=\"1\" class=\"dataframe\">\n",
       "  <thead>\n",
       "    <tr style=\"text-align: right;\">\n",
       "      <th></th>\n",
       "      <th>Date</th>\n",
       "      <th>Open</th>\n",
       "      <th>High</th>\n",
       "      <th>Low</th>\n",
       "      <th>Close</th>\n",
       "      <th>Adj Close</th>\n",
       "      <th>Volume</th>\n",
       "      <th>MktRF</th>\n",
       "    </tr>\n",
       "  </thead>\n",
       "  <tbody>\n",
       "    <tr>\n",
       "      <th>0</th>\n",
       "      <td>2016-05-16</td>\n",
       "      <td>61.209999</td>\n",
       "      <td>61.990002</td>\n",
       "      <td>61.000000</td>\n",
       "      <td>61.660000</td>\n",
       "      <td>55.047691</td>\n",
       "      <td>10951300</td>\n",
       "      <td>0.99</td>\n",
       "    </tr>\n",
       "    <tr>\n",
       "      <th>1</th>\n",
       "      <td>2016-05-17</td>\n",
       "      <td>61.430000</td>\n",
       "      <td>62.160000</td>\n",
       "      <td>61.150002</td>\n",
       "      <td>61.660000</td>\n",
       "      <td>55.047691</td>\n",
       "      <td>12180900</td>\n",
       "      <td>-0.95</td>\n",
       "    </tr>\n",
       "    <tr>\n",
       "      <th>2</th>\n",
       "      <td>2016-05-18</td>\n",
       "      <td>61.700001</td>\n",
       "      <td>64.169998</td>\n",
       "      <td>61.689999</td>\n",
       "      <td>64.040001</td>\n",
       "      <td>57.172466</td>\n",
       "      <td>24007100</td>\n",
       "      <td>0.10</td>\n",
       "    </tr>\n",
       "    <tr>\n",
       "      <th>3</th>\n",
       "      <td>2016-05-19</td>\n",
       "      <td>63.529999</td>\n",
       "      <td>64.220001</td>\n",
       "      <td>62.900002</td>\n",
       "      <td>63.389999</td>\n",
       "      <td>56.592175</td>\n",
       "      <td>16076200</td>\n",
       "      <td>-0.33</td>\n",
       "    </tr>\n",
       "    <tr>\n",
       "      <th>4</th>\n",
       "      <td>2016-05-20</td>\n",
       "      <td>63.860001</td>\n",
       "      <td>64.190002</td>\n",
       "      <td>63.369999</td>\n",
       "      <td>63.509998</td>\n",
       "      <td>56.699303</td>\n",
       "      <td>11862000</td>\n",
       "      <td>0.75</td>\n",
       "    </tr>\n",
       "  </tbody>\n",
       "</table>\n",
       "</div>"
      ],
      "text/plain": [
       "         Date       Open       High        Low      Close  Adj Close  \\\n",
       "0  2016-05-16  61.209999  61.990002  61.000000  61.660000  55.047691   \n",
       "1  2016-05-17  61.430000  62.160000  61.150002  61.660000  55.047691   \n",
       "2  2016-05-18  61.700001  64.169998  61.689999  64.040001  57.172466   \n",
       "3  2016-05-19  63.529999  64.220001  62.900002  63.389999  56.592175   \n",
       "4  2016-05-20  63.860001  64.190002  63.369999  63.509998  56.699303   \n",
       "\n",
       "     Volume  MktRF  \n",
       "0  10951300   0.99  \n",
       "1  12180900  -0.95  \n",
       "2  24007100   0.10  \n",
       "3  16076200  -0.33  \n",
       "4  11862000   0.75  "
      ]
     },
     "execution_count": 109,
     "metadata": {},
     "output_type": "execute_result"
    }
   ],
   "source": [
    "df_jpm.head()"
   ]
  },
  {
   "cell_type": "code",
   "execution_count": 110,
   "metadata": {},
   "outputs": [],
   "source": [
    "#df_jpm['MktRF'] = df_fama['Mkt-RF']\n",
    "df_jpm['SMB'] = df_fama['SMB']\n",
    "df_jpm['HML'] = df_fama['HML']\n",
    "df_jpm['RF'] = df_fama['RF']"
   ]
  },
  {
   "cell_type": "code",
   "execution_count": 111,
   "metadata": {},
   "outputs": [
    {
     "data": {
      "text/html": [
       "<div>\n",
       "<style scoped>\n",
       "    .dataframe tbody tr th:only-of-type {\n",
       "        vertical-align: middle;\n",
       "    }\n",
       "\n",
       "    .dataframe tbody tr th {\n",
       "        vertical-align: top;\n",
       "    }\n",
       "\n",
       "    .dataframe thead th {\n",
       "        text-align: right;\n",
       "    }\n",
       "</style>\n",
       "<table border=\"1\" class=\"dataframe\">\n",
       "  <thead>\n",
       "    <tr style=\"text-align: right;\">\n",
       "      <th></th>\n",
       "      <th>Date</th>\n",
       "      <th>Open</th>\n",
       "      <th>High</th>\n",
       "      <th>Low</th>\n",
       "      <th>Close</th>\n",
       "      <th>Adj Close</th>\n",
       "      <th>Volume</th>\n",
       "      <th>MktRF</th>\n",
       "      <th>SMB</th>\n",
       "      <th>HML</th>\n",
       "      <th>RF</th>\n",
       "    </tr>\n",
       "  </thead>\n",
       "  <tbody>\n",
       "    <tr>\n",
       "      <th>0</th>\n",
       "      <td>2016-05-16</td>\n",
       "      <td>61.209999</td>\n",
       "      <td>61.990002</td>\n",
       "      <td>61.000000</td>\n",
       "      <td>61.660000</td>\n",
       "      <td>55.047691</td>\n",
       "      <td>10951300</td>\n",
       "      <td>0.99</td>\n",
       "      <td>0.28</td>\n",
       "      <td>-0.24</td>\n",
       "      <td>0.001</td>\n",
       "    </tr>\n",
       "    <tr>\n",
       "      <th>1</th>\n",
       "      <td>2016-05-17</td>\n",
       "      <td>61.430000</td>\n",
       "      <td>62.160000</td>\n",
       "      <td>61.150002</td>\n",
       "      <td>61.660000</td>\n",
       "      <td>55.047691</td>\n",
       "      <td>12180900</td>\n",
       "      <td>-0.95</td>\n",
       "      <td>-0.78</td>\n",
       "      <td>0.61</td>\n",
       "      <td>0.001</td>\n",
       "    </tr>\n",
       "    <tr>\n",
       "      <th>2</th>\n",
       "      <td>2016-05-18</td>\n",
       "      <td>61.700001</td>\n",
       "      <td>64.169998</td>\n",
       "      <td>61.689999</td>\n",
       "      <td>64.040001</td>\n",
       "      <td>57.172466</td>\n",
       "      <td>24007100</td>\n",
       "      <td>0.10</td>\n",
       "      <td>0.10</td>\n",
       "      <td>0.83</td>\n",
       "      <td>0.001</td>\n",
       "    </tr>\n",
       "    <tr>\n",
       "      <th>3</th>\n",
       "      <td>2016-05-19</td>\n",
       "      <td>63.529999</td>\n",
       "      <td>64.220001</td>\n",
       "      <td>62.900002</td>\n",
       "      <td>63.389999</td>\n",
       "      <td>56.592175</td>\n",
       "      <td>16076200</td>\n",
       "      <td>-0.33</td>\n",
       "      <td>-0.32</td>\n",
       "      <td>-0.30</td>\n",
       "      <td>0.001</td>\n",
       "    </tr>\n",
       "    <tr>\n",
       "      <th>4</th>\n",
       "      <td>2016-05-20</td>\n",
       "      <td>63.860001</td>\n",
       "      <td>64.190002</td>\n",
       "      <td>63.369999</td>\n",
       "      <td>63.509998</td>\n",
       "      <td>56.699303</td>\n",
       "      <td>11862000</td>\n",
       "      <td>0.75</td>\n",
       "      <td>0.90</td>\n",
       "      <td>-0.30</td>\n",
       "      <td>0.001</td>\n",
       "    </tr>\n",
       "  </tbody>\n",
       "</table>\n",
       "</div>"
      ],
      "text/plain": [
       "         Date       Open       High        Low      Close  Adj Close  \\\n",
       "0  2016-05-16  61.209999  61.990002  61.000000  61.660000  55.047691   \n",
       "1  2016-05-17  61.430000  62.160000  61.150002  61.660000  55.047691   \n",
       "2  2016-05-18  61.700001  64.169998  61.689999  64.040001  57.172466   \n",
       "3  2016-05-19  63.529999  64.220001  62.900002  63.389999  56.592175   \n",
       "4  2016-05-20  63.860001  64.190002  63.369999  63.509998  56.699303   \n",
       "\n",
       "     Volume  MktRF   SMB   HML     RF  \n",
       "0  10951300   0.99  0.28 -0.24  0.001  \n",
       "1  12180900  -0.95 -0.78  0.61  0.001  \n",
       "2  24007100   0.10  0.10  0.83  0.001  \n",
       "3  16076200  -0.33 -0.32 -0.30  0.001  \n",
       "4  11862000   0.75  0.90 -0.30  0.001  "
      ]
     },
     "execution_count": 111,
     "metadata": {},
     "output_type": "execute_result"
    }
   ],
   "source": [
    "df_jpm.head()"
   ]
  },
  {
   "cell_type": "code",
   "execution_count": 112,
   "metadata": {},
   "outputs": [],
   "source": [
    "df_jpm['stock_return'] = ((df_jpm['Close']-df_jpm['Open'])/df_jpm['Close'])"
   ]
  },
  {
   "cell_type": "code",
   "execution_count": 113,
   "metadata": {},
   "outputs": [
    {
     "data": {
      "text/html": [
       "<div>\n",
       "<style scoped>\n",
       "    .dataframe tbody tr th:only-of-type {\n",
       "        vertical-align: middle;\n",
       "    }\n",
       "\n",
       "    .dataframe tbody tr th {\n",
       "        vertical-align: top;\n",
       "    }\n",
       "\n",
       "    .dataframe thead th {\n",
       "        text-align: right;\n",
       "    }\n",
       "</style>\n",
       "<table border=\"1\" class=\"dataframe\">\n",
       "  <thead>\n",
       "    <tr style=\"text-align: right;\">\n",
       "      <th></th>\n",
       "      <th>Date</th>\n",
       "      <th>Open</th>\n",
       "      <th>High</th>\n",
       "      <th>Low</th>\n",
       "      <th>Close</th>\n",
       "      <th>Adj Close</th>\n",
       "      <th>Volume</th>\n",
       "      <th>MktRF</th>\n",
       "      <th>SMB</th>\n",
       "      <th>HML</th>\n",
       "      <th>RF</th>\n",
       "      <th>stock_return</th>\n",
       "    </tr>\n",
       "  </thead>\n",
       "  <tbody>\n",
       "    <tr>\n",
       "      <th>0</th>\n",
       "      <td>2016-05-16</td>\n",
       "      <td>61.209999</td>\n",
       "      <td>61.990002</td>\n",
       "      <td>61.000000</td>\n",
       "      <td>61.660000</td>\n",
       "      <td>55.047691</td>\n",
       "      <td>10951300</td>\n",
       "      <td>0.99</td>\n",
       "      <td>0.28</td>\n",
       "      <td>-0.24</td>\n",
       "      <td>0.001</td>\n",
       "      <td>0.007298</td>\n",
       "    </tr>\n",
       "    <tr>\n",
       "      <th>1</th>\n",
       "      <td>2016-05-17</td>\n",
       "      <td>61.430000</td>\n",
       "      <td>62.160000</td>\n",
       "      <td>61.150002</td>\n",
       "      <td>61.660000</td>\n",
       "      <td>55.047691</td>\n",
       "      <td>12180900</td>\n",
       "      <td>-0.95</td>\n",
       "      <td>-0.78</td>\n",
       "      <td>0.61</td>\n",
       "      <td>0.001</td>\n",
       "      <td>0.003730</td>\n",
       "    </tr>\n",
       "    <tr>\n",
       "      <th>2</th>\n",
       "      <td>2016-05-18</td>\n",
       "      <td>61.700001</td>\n",
       "      <td>64.169998</td>\n",
       "      <td>61.689999</td>\n",
       "      <td>64.040001</td>\n",
       "      <td>57.172466</td>\n",
       "      <td>24007100</td>\n",
       "      <td>0.10</td>\n",
       "      <td>0.10</td>\n",
       "      <td>0.83</td>\n",
       "      <td>0.001</td>\n",
       "      <td>0.036540</td>\n",
       "    </tr>\n",
       "    <tr>\n",
       "      <th>3</th>\n",
       "      <td>2016-05-19</td>\n",
       "      <td>63.529999</td>\n",
       "      <td>64.220001</td>\n",
       "      <td>62.900002</td>\n",
       "      <td>63.389999</td>\n",
       "      <td>56.592175</td>\n",
       "      <td>16076200</td>\n",
       "      <td>-0.33</td>\n",
       "      <td>-0.32</td>\n",
       "      <td>-0.30</td>\n",
       "      <td>0.001</td>\n",
       "      <td>-0.002209</td>\n",
       "    </tr>\n",
       "    <tr>\n",
       "      <th>4</th>\n",
       "      <td>2016-05-20</td>\n",
       "      <td>63.860001</td>\n",
       "      <td>64.190002</td>\n",
       "      <td>63.369999</td>\n",
       "      <td>63.509998</td>\n",
       "      <td>56.699303</td>\n",
       "      <td>11862000</td>\n",
       "      <td>0.75</td>\n",
       "      <td>0.90</td>\n",
       "      <td>-0.30</td>\n",
       "      <td>0.001</td>\n",
       "      <td>-0.005511</td>\n",
       "    </tr>\n",
       "  </tbody>\n",
       "</table>\n",
       "</div>"
      ],
      "text/plain": [
       "         Date       Open       High        Low      Close  Adj Close  \\\n",
       "0  2016-05-16  61.209999  61.990002  61.000000  61.660000  55.047691   \n",
       "1  2016-05-17  61.430000  62.160000  61.150002  61.660000  55.047691   \n",
       "2  2016-05-18  61.700001  64.169998  61.689999  64.040001  57.172466   \n",
       "3  2016-05-19  63.529999  64.220001  62.900002  63.389999  56.592175   \n",
       "4  2016-05-20  63.860001  64.190002  63.369999  63.509998  56.699303   \n",
       "\n",
       "     Volume  MktRF   SMB   HML     RF  stock_return  \n",
       "0  10951300   0.99  0.28 -0.24  0.001      0.007298  \n",
       "1  12180900  -0.95 -0.78  0.61  0.001      0.003730  \n",
       "2  24007100   0.10  0.10  0.83  0.001      0.036540  \n",
       "3  16076200  -0.33 -0.32 -0.30  0.001     -0.002209  \n",
       "4  11862000   0.75  0.90 -0.30  0.001     -0.005511  "
      ]
     },
     "execution_count": 113,
     "metadata": {},
     "output_type": "execute_result"
    }
   ],
   "source": [
    "df_jpm.head()"
   ]
  },
  {
   "cell_type": "code",
   "execution_count": 114,
   "metadata": {},
   "outputs": [],
   "source": [
    "# import numpy as np\n",
    "# df_jpm['log_return'] = np.log(df_jpm['Close']).diff().dropna()\n",
    "# df_jpm['log_return'].iloc[0] = 0.0"
   ]
  },
  {
   "cell_type": "code",
   "execution_count": 115,
   "metadata": {},
   "outputs": [],
   "source": [
    "T = df_jpm.shape[0]"
   ]
  },
  {
   "cell_type": "code",
   "execution_count": 116,
   "metadata": {},
   "outputs": [
    {
     "data": {
      "text/plain": [
       "997"
      ]
     },
     "execution_count": 116,
     "metadata": {},
     "output_type": "execute_result"
    }
   ],
   "source": [
    "T"
   ]
  },
  {
   "cell_type": "code",
   "execution_count": 117,
   "metadata": {},
   "outputs": [],
   "source": [
    "Y = df_jpm['stock_return'].values"
   ]
  },
  {
   "cell_type": "code",
   "execution_count": 118,
   "metadata": {},
   "outputs": [
    {
     "data": {
      "text/plain": [
       "(997,)"
      ]
     },
     "execution_count": 118,
     "metadata": {},
     "output_type": "execute_result"
    }
   ],
   "source": [
    "Y.shape"
   ]
  },
  {
   "cell_type": "code",
   "execution_count": 119,
   "metadata": {},
   "outputs": [],
   "source": [
    "columns = ['MktRF','SMB','HML']\n",
    "X=df_jpm[columns]"
   ]
  },
  {
   "cell_type": "code",
   "execution_count": 120,
   "metadata": {},
   "outputs": [
    {
     "data": {
      "text/html": [
       "<div>\n",
       "<style scoped>\n",
       "    .dataframe tbody tr th:only-of-type {\n",
       "        vertical-align: middle;\n",
       "    }\n",
       "\n",
       "    .dataframe tbody tr th {\n",
       "        vertical-align: top;\n",
       "    }\n",
       "\n",
       "    .dataframe thead th {\n",
       "        text-align: right;\n",
       "    }\n",
       "</style>\n",
       "<table border=\"1\" class=\"dataframe\">\n",
       "  <thead>\n",
       "    <tr style=\"text-align: right;\">\n",
       "      <th></th>\n",
       "      <th>MktRF</th>\n",
       "      <th>SMB</th>\n",
       "      <th>HML</th>\n",
       "    </tr>\n",
       "  </thead>\n",
       "  <tbody>\n",
       "    <tr>\n",
       "      <th>0</th>\n",
       "      <td>0.99</td>\n",
       "      <td>0.28</td>\n",
       "      <td>-0.24</td>\n",
       "    </tr>\n",
       "    <tr>\n",
       "      <th>1</th>\n",
       "      <td>-0.95</td>\n",
       "      <td>-0.78</td>\n",
       "      <td>0.61</td>\n",
       "    </tr>\n",
       "    <tr>\n",
       "      <th>2</th>\n",
       "      <td>0.10</td>\n",
       "      <td>0.10</td>\n",
       "      <td>0.83</td>\n",
       "    </tr>\n",
       "    <tr>\n",
       "      <th>3</th>\n",
       "      <td>-0.33</td>\n",
       "      <td>-0.32</td>\n",
       "      <td>-0.30</td>\n",
       "    </tr>\n",
       "    <tr>\n",
       "      <th>4</th>\n",
       "      <td>0.75</td>\n",
       "      <td>0.90</td>\n",
       "      <td>-0.30</td>\n",
       "    </tr>\n",
       "  </tbody>\n",
       "</table>\n",
       "</div>"
      ],
      "text/plain": [
       "   MktRF   SMB   HML\n",
       "0   0.99  0.28 -0.24\n",
       "1  -0.95 -0.78  0.61\n",
       "2   0.10  0.10  0.83\n",
       "3  -0.33 -0.32 -0.30\n",
       "4   0.75  0.90 -0.30"
      ]
     },
     "execution_count": 120,
     "metadata": {},
     "output_type": "execute_result"
    }
   ],
   "source": [
    "X.head()"
   ]
  },
  {
   "cell_type": "code",
   "execution_count": 121,
   "metadata": {},
   "outputs": [
    {
     "data": {
      "text/plain": [
       "(997, 3)"
      ]
     },
     "execution_count": 121,
     "metadata": {},
     "output_type": "execute_result"
    }
   ],
   "source": [
    "X.shape"
   ]
  },
  {
   "cell_type": "code",
   "execution_count": 122,
   "metadata": {},
   "outputs": [],
   "source": [
    "import numpy as np\n",
    "X = np.column_stack([np.ones((len(X),1)),X])"
   ]
  },
  {
   "cell_type": "code",
   "execution_count": 123,
   "metadata": {},
   "outputs": [
    {
     "data": {
      "text/plain": [
       "(997, 4)"
      ]
     },
     "execution_count": 123,
     "metadata": {},
     "output_type": "execute_result"
    }
   ],
   "source": [
    "X.shape"
   ]
  },
  {
   "cell_type": "code",
   "execution_count": 124,
   "metadata": {},
   "outputs": [
    {
     "data": {
      "text/plain": [
       "array([[ 1.  ,  0.99,  0.28, -0.24],\n",
       "       [ 1.  , -0.95, -0.78,  0.61],\n",
       "       [ 1.  ,  0.1 ,  0.1 ,  0.83],\n",
       "       ...,\n",
       "       [ 1.  , -0.44,  0.87,  2.89],\n",
       "       [ 1.  ,  2.92,  1.87,  2.04],\n",
       "       [ 1.  , -1.18, -1.42, -1.63]])"
      ]
     },
     "execution_count": 124,
     "metadata": {},
     "output_type": "execute_result"
    }
   ],
   "source": [
    "X"
   ]
  },
  {
   "cell_type": "code",
   "execution_count": 125,
   "metadata": {},
   "outputs": [],
   "source": [
    "Y=np.asarray(Y)\n",
    "Y = Y.reshape(997,1)"
   ]
  },
  {
   "cell_type": "code",
   "execution_count": 126,
   "metadata": {},
   "outputs": [
    {
     "data": {
      "text/plain": [
       "(997, 1)"
      ]
     },
     "execution_count": 126,
     "metadata": {},
     "output_type": "execute_result"
    }
   ],
   "source": [
    "Y.shape"
   ]
  },
  {
   "cell_type": "code",
   "execution_count": 127,
   "metadata": {},
   "outputs": [
    {
     "data": {
      "text/plain": [
       "array([[ 1.00966097e-03, -4.11614549e-05,  2.21836050e-05,\n",
       "         1.04241771e-04],\n",
       "       [-4.11614549e-05,  6.76757895e-04, -1.27807128e-04,\n",
       "        -1.96012077e-04],\n",
       "       [ 2.21836050e-05, -1.27807128e-04,  3.08355671e-03,\n",
       "        -1.82296995e-04],\n",
       "       [ 1.04241771e-04, -1.96012077e-04, -1.82296995e-04,\n",
       "         2.20817362e-03]])"
      ]
     },
     "execution_count": 127,
     "metadata": {},
     "output_type": "execute_result"
    }
   ],
   "source": [
    "'OLS REGRESSION STARTS'\n",
    "'Linear Regression of Y: T x 1 on'\n",
    "'Regressors X: T x N'\n",
    "invXX = np.linalg.inv(X.transpose()@X)\n",
    "invXX"
   ]
  },
  {
   "cell_type": "code",
   "execution_count": 128,
   "metadata": {},
   "outputs": [
    {
     "data": {
      "text/plain": [
       "(4, 4)"
      ]
     },
     "execution_count": 128,
     "metadata": {},
     "output_type": "execute_result"
    }
   ],
   "source": [
    "invXX.shape"
   ]
  },
  {
   "cell_type": "code",
   "execution_count": 129,
   "metadata": {},
   "outputs": [
    {
     "data": {
      "text/plain": [
       "array([[ 0.00032475],\n",
       "       [ 0.00433571],\n",
       "       [-0.00077498],\n",
       "       [ 0.0056215 ]])"
      ]
     },
     "execution_count": 129,
     "metadata": {},
     "output_type": "execute_result"
    }
   ],
   "source": [
    "'OLS estimates for coefficients: X x 1'\n",
    "beta_hat = invXX@X.transpose()@Y\n",
    "beta_hat"
   ]
  },
  {
   "cell_type": "code",
   "execution_count": 130,
   "metadata": {},
   "outputs": [
    {
     "data": {
      "text/plain": [
       "(997, 1)"
      ]
     },
     "execution_count": 130,
     "metadata": {},
     "output_type": "execute_result"
    }
   ],
   "source": [
    "'Predictive value of Y using OLS'\n",
    "y_hat = X@beta_hat\n",
    "y_hat.shape"
   ]
  },
  {
   "cell_type": "code",
   "execution_count": 131,
   "metadata": {},
   "outputs": [
    {
     "data": {
      "text/plain": [
       "(997, 1)"
      ]
     },
     "execution_count": 131,
     "metadata": {},
     "output_type": "execute_result"
    }
   ],
   "source": [
    "'Residuals from OLS'\n",
    "residuals = Y - y_hat\n",
    "residuals.shape"
   ]
  },
  {
   "cell_type": "code",
   "execution_count": 132,
   "metadata": {},
   "outputs": [
    {
     "data": {
      "text/plain": [
       "array([[9.26288661e-05]])"
      ]
     },
     "execution_count": 132,
     "metadata": {},
     "output_type": "execute_result"
    }
   ],
   "source": [
    "'Variance of residuals'\n",
    "variance = (1/T)*residuals.transpose()@residuals\n",
    "variance"
   ]
  },
  {
   "cell_type": "code",
   "execution_count": 133,
   "metadata": {},
   "outputs": [],
   "source": [
    "'standard deviation of Y or residuals'\n",
    "standard_deviation = np.sqrt(variance)"
   ]
  },
  {
   "cell_type": "code",
   "execution_count": 134,
   "metadata": {},
   "outputs": [],
   "source": [
    "'variance-covariance matrix of beta_hat'\n",
    "varcov_beta_hat = (variance)*invXX\n",
    "std_beta_hat = np.sqrt(T*np.diag(varcov_beta_hat))\n"
   ]
  },
  {
   "cell_type": "code",
   "execution_count": 135,
   "metadata": {},
   "outputs": [],
   "source": [
    "N = X.shape"
   ]
  },
  {
   "cell_type": "code",
   "execution_count": 136,
   "metadata": {},
   "outputs": [
    {
     "name": "stdout",
     "output_type": "stream",
     "text": [
      "[[0.35098948]]\n",
      "[[0.34902873]]\n"
     ]
    }
   ],
   "source": [
    "\n",
    "'Calculate R-square'\n",
    "R_square = 1- (residuals.transpose()@residuals)/(T*np.var(Y))\n",
    "adj_R_square = 1-(1-R_square)*(T-1)/(T-N[1])\n",
    "print(R_square)\n",
    "print(adj_R_square)\n"
   ]
  },
  {
   "cell_type": "code",
   "execution_count": 137,
   "metadata": {},
   "outputs": [],
   "source": [
    "'Test Each Coefficient: beta_i'\n",
    "'Null Hypothesis: beta_i = 0'\n",
    "t_stat = (beta_hat.transpose()-0)/std_beta_hat\n",
    "p_val_t = 1-ss.norm.cdf(t_stat)\n"
   ]
  },
  {
   "cell_type": "code",
   "execution_count": 138,
   "metadata": {},
   "outputs": [
    {
     "data": {
      "text/plain": [
       "array([[1.11022302e-16]])"
      ]
     },
     "execution_count": 138,
     "metadata": {},
     "output_type": "execute_result"
    }
   ],
   "source": [
    "'Test of Joint Significance of Model'\n",
    "F_stat = (beta_hat.transpose()@np.linalg.inv(varcov_beta_hat)@beta_hat/N[1])/\\\n",
    "         (residuals.transpose()@residuals/(T-N[1]))\n",
    "\n",
    "p_val_F = 1-ss.f.cdf(F_stat,N[1]-1,T-N[1])\n",
    "\n",
    "p_val_F"
   ]
  },
  {
   "cell_type": "code",
   "execution_count": 147,
   "metadata": {},
   "outputs": [],
   "source": [
    "def print_all_values():\n",
    "    print('Variance-------------',variance)\n",
    "    print('Standard Deviation---',standard_deviation)\n",
    "    print('R Square-------------',R_square)\n",
    "    print('Adjusted R Square----',adj_R_square)\n",
    "    print('P values-------------',p_val_t,p_val_F)\n",
    "    plt.plot(y_hat, color='green')\n",
    "    plt.plot(Y, color = 'red')\n",
    "    plt.show()\n"
   ]
  },
  {
   "cell_type": "code",
   "execution_count": 148,
   "metadata": {},
   "outputs": [
    {
     "name": "stdout",
     "output_type": "stream",
     "text": [
      "Variance------------- [[9.26288661e-05]]\n",
      "Standard Deviation--- [[0.00962439]]\n",
      "R Square------------- [[0.35098948]]\n",
      "Adjusted R Square---- [[0.34902873]]\n",
      "P values------------- [[0.48658556 0.29169752 0.51831469 0.34691813]] [[1.11022302e-16]]\n"
     ]
    },
    {
     "data": {
      "image/png": "[encoded data removed]",
      "text/plain": [
       "<Figure size 432x288 with 1 Axes>"
      ]
     },
     "metadata": {
      "needs_background": "light"
     },
     "output_type": "display_data"
    }
   ],
   "source": [
    "print_all_values()"
   ]
  },
  {
   "cell_type": "code",
   "execution_count": 155,
   "metadata": {},
   "outputs": [
    {
     "name": "stdout",
     "output_type": "stream",
     "text": [
      "Variance------------- [[9.26288661e-05]]\n",
      "Standard Deviation--- [[0.00962439]]\n",
      "R Square------------- [[0.35098948]]\n",
      "Adjusted R Square---- [[0.34902873]]\n",
      "P value------------- [[1.11022302e-16]]\n"
     ]
    }
   ],
   "source": [
    "df_jpm['stock_return'] = ((df_jpm['Close']-df_jpm['Open'])/df_jpm['Close'])\n",
    "\n",
    "def OLS_Regression():\n",
    "    T = df_jpm.shape[0]\n",
    "    Y = df_jpm['stock_return'].values\n",
    "    columns = ['MktRF','SMB','HML']\n",
    "    X=df_jpm[columns]\n",
    "    X = np.column_stack([np.ones((len(X),1)),X])\n",
    "    N = X.shape\n",
    "    Y=np.asarray(Y)\n",
    "    Y = Y.reshape(997,1)\n",
    "    \n",
    "    'OLS REGRESSION STARTS'\n",
    "    'Linear Regression of Y: T x 1 on'\n",
    "    'Regressors X: T x N'\n",
    "    invXX = np.linalg.inv(X.transpose()@X)\n",
    "    \n",
    "    'OLS estimates for coefficients: X x 1'\n",
    "    beta_hat = invXX@X.transpose()@Y\n",
    "\n",
    "    'Predictive value of Y using OLS'\n",
    "    y_hat = X@beta_hat\n",
    "\n",
    "    'Residuals from OLS'\n",
    "    residuals = Y - y_hat\n",
    "\n",
    "    'Variance of residuals'\n",
    "    variance = (1/T)*residuals.transpose()@residuals\n",
    "\n",
    "    'standard deviation of Y or residuals'\n",
    "    standard_deviation = np.sqrt(variance)\n",
    "\n",
    "    'variance-covariance matrix of beta_hat'\n",
    "    varcov_beta_hat = (variance)*invXX\n",
    "    std_beta_hat = np.sqrt(T*np.diag(varcov_beta_hat))\n",
    "\n",
    "    'Calculate R-square'\n",
    "    R_square = 1- (residuals.transpose()@residuals)/(T*np.var(Y))\n",
    "    adj_R_square = 1-(1-R_square)*(T-1)/(T-N[1])\n",
    " \n",
    "    'Test Each Coefficient: beta_i'\n",
    "    'Null Hypothesis: beta_i = 0'\n",
    "    t_stat = (beta_hat.transpose()-0)/std_beta_hat\n",
    "    p_val_t = 1-ss.norm.cdf(t_stat)\n",
    "\n",
    "    'Test of Joint Significance of Model'\n",
    "    F_stat = (beta_hat.transpose()@np.linalg.inv(varcov_beta_hat)@beta_hat/N[1])/\\\n",
    "             (residuals.transpose()@residuals/(T-N[1]))\n",
    "    p_val_F = 1-ss.f.cdf(F_stat,N[1]-1,T-N[1])\n",
    "    \n",
    "    print('Variance-------------',variance)\n",
    "    print('Standard Deviation---',standard_deviation)\n",
    "    print('R Square-------------',R_square)\n",
    "    print('Adjusted R Square----',adj_R_square)\n",
    "    print('P value-------------',p_val_F)\n",
    "\n",
    "\n",
    "OLS_Regression()\n"
   ]
  },
  {
   "cell_type": "code",
   "execution_count": 171,
   "metadata": {},
   "outputs": [
    {
     "name": "stdout",
     "output_type": "stream",
     "text": [
      "Variance------------- [[0.96750207]]\n",
      "Standard Deviation--- [[0.98361683]]\n",
      "R Square------------- [[0.3374155]]\n",
      "Adjusted R Square---- [[0.33541373]]\n",
      "P value------------- [[1.11022302e-16]]\n"
     ]
    },
    {
     "data": {
      "image/png": "[encoded data removed]",
      "text/plain": [
       "<Figure size 432x288 with 1 Axes>"
      ]
     },
     "metadata": {
      "needs_background": "light"
     },
     "output_type": "display_data"
    },
    {
     "data": {
      "image/png": "[encoded data removed]",
      "text/plain": [
       "<Figure size 1296x360 with 1 Axes>"
      ]
     },
     "metadata": {
      "needs_background": "light"
     },
     "output_type": "display_data"
    }
   ],
   "source": [
    "df_jpm['stock_return'] = (df_jpm['Close']-df_jpm['Open'])\n",
    "\n",
    "def OLS_Regression():\n",
    "    T = df_jpm.shape[0]\n",
    "    Y = df_jpm['stock_return'].values\n",
    "    columns = ['MktRF','SMB','HML']\n",
    "    X=df_jpm[columns]\n",
    "    X = np.column_stack([np.ones((len(X),1)),X])\n",
    "    N = X.shape\n",
    "    Y=np.asarray(Y)\n",
    "    Y = Y.reshape(997,1)\n",
    "    \n",
    "    'OLS REGRESSION STARTS'\n",
    "    'Linear Regression of Y: T x 1 on'\n",
    "    'Regressors X: T x N'\n",
    "    invXX = np.linalg.inv(X.transpose()@X)\n",
    "    \n",
    "    'OLS estimates for coefficients: X x 1'\n",
    "    beta_hat = invXX@X.transpose()@Y\n",
    "\n",
    "    'Predictive value of Y using OLS'\n",
    "    y_hat = X@beta_hat\n",
    "\n",
    "    'Residuals from OLS'\n",
    "    residuals = Y - y_hat\n",
    "\n",
    "    'Variance of residuals'\n",
    "    variance = (1/T)*residuals.transpose()@residuals\n",
    "\n",
    "    'standard deviation of Y or residuals'\n",
    "    standard_deviation = np.sqrt(variance)\n",
    "\n",
    "    'variance-covariance matrix of beta_hat'\n",
    "    varcov_beta_hat = (variance)*invXX\n",
    "    std_beta_hat = np.sqrt(T*np.diag(varcov_beta_hat))\n",
    "\n",
    "    'Calculate R-square'\n",
    "    R_square = 1- (residuals.transpose()@residuals)/(T*np.var(Y))\n",
    "    adj_R_square = 1-(1-R_square)*(T-1)/(T-N[1])\n",
    " \n",
    "    'Test Each Coefficient: beta_i'\n",
    "    'Null Hypothesis: beta_i = 0'\n",
    "    t_stat = (beta_hat.transpose()-0)/std_beta_hat\n",
    "    p_val_t = 1-ss.norm.cdf(t_stat)\n",
    "\n",
    "    'Test of Joint Significance of Model'\n",
    "    F_stat = (beta_hat.transpose()@np.linalg.inv(varcov_beta_hat)@beta_hat/N[1])/\\\n",
    "             (residuals.transpose()@residuals/(T-N[1]))\n",
    "    p_val_F = 1-ss.f.cdf(F_stat,N[1]-1,T-N[1])\n",
    "    \n",
    "    print('Variance-------------',variance)\n",
    "    print('Standard Deviation---',standard_deviation)\n",
    "    print('R Square-------------',R_square)\n",
    "    print('Adjusted R Square----',adj_R_square)\n",
    "    print('P value-------------',p_val_F)\n",
    "    plt.plot(y_hat, color='green')\n",
    "    plt.plot(Y, color = 'red')\n",
    "    plt.show()\n",
    "\n",
    "    pred = pd.DataFrame(y_hat)\n",
    "    act = pd.DataFrame(Y)\n",
    "\n",
    "    plot_df = pd.DataFrame({\"actual\": act[0], \"predictions\": pred[0]})\n",
    "    plot_df.plot(figsize=(18, 5), title='Predictions using Linear Regression')\n",
    "\n",
    "\n",
    "\n",
    "\n",
    "OLS_Regression()"
   ]
  },
  {
   "cell_type": "code",
   "execution_count": 162,
   "metadata": {},
   "outputs": [],
   "source": []
  },
  {
   "cell_type": "code",
   "execution_count": 165,
   "metadata": {},
   "outputs": [
    {
     "data": {
      "text/plain": [
       "<matplotlib.axes._subplots.AxesSubplot at 0x12e8092b0>"
      ]
     },
     "execution_count": 165,
     "metadata": {},
     "output_type": "execute_result"
    },
    {
     "data": {
      "image/png": "[encoded data removed]",
      "text/plain": [
       "<Figure size 1296x360 with 1 Axes>"
      ]
     },
     "metadata": {
      "needs_background": "light"
     },
     "output_type": "display_data"
    }
   ],
   "source": [
    "pred = pd.DataFrame(y_hat)\n",
    "act = pd.DataFrame(Y)\n",
    "\n",
    "plot_df = pd.DataFrame({\"actual\": act[0], \"predictions\": pred[0]})\n",
    "plot_df.plot(figsize=(18, 5), title='Predictions using Linear Regression')\n",
    "\n"
   ]
  },
  {
   "cell_type": "code",
   "execution_count": null,
   "metadata": {},
   "outputs": [],
   "source": []
  }
 ],
 "metadata": {
  "kernelspec": {
   "display_name": "Python 3",
   "language": "python",
   "name": "python3"
  },
  "language_info": {
   "codemirror_mode": {
    "name": "ipython",
    "version": 3
   },
   "file_extension": ".py",
   "mimetype": "text/x-python",
   "name": "python",
   "nbconvert_exporter": "python",
   "pygments_lexer": "ipython3",
   "version": "3.7.6"
  }
 },
 "nbformat": 4,
 "nbformat_minor": 2
}
