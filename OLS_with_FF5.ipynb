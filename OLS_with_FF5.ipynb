{
 "cells": [
  {
   "cell_type": "code",
   "execution_count": 1,
   "metadata": {},
   "outputs": [],
   "source": [
    "import pandas as pd\n",
    "import matplotlib.pyplot as plt\n",
    "import numpy as np\n",
    "import scipy.stats as ss"
   ]
  },
  {
   "cell_type": "code",
   "execution_count": 2,
   "metadata": {},
   "outputs": [],
   "source": [
    "df_fama = pd.read_csv (r'C:\\Users\\krish\\Desktop\\Subjects\\AppliedML\\Lec-4\\F-F_Research_Data_5_Factors_2x3_daily_CSV\\ff5.csv')"
   ]
  },
  {
   "cell_type": "code",
   "execution_count": 3,
   "metadata": {},
   "outputs": [
    {
     "data": {
      "text/html": [
       "<div>\n",
       "<style scoped>\n",
       "    .dataframe tbody tr th:only-of-type {\n",
       "        vertical-align: middle;\n",
       "    }\n",
       "\n",
       "    .dataframe tbody tr th {\n",
       "        vertical-align: top;\n",
       "    }\n",
       "\n",
       "    .dataframe thead th {\n",
       "        text-align: right;\n",
       "    }\n",
       "</style>\n",
       "<table border=\"1\" class=\"dataframe\">\n",
       "  <thead>\n",
       "    <tr style=\"text-align: right;\">\n",
       "      <th></th>\n",
       "      <th>Date</th>\n",
       "      <th>Mkt-RF</th>\n",
       "      <th>SMB</th>\n",
       "      <th>HML</th>\n",
       "      <th>RMW</th>\n",
       "      <th>CMA</th>\n",
       "      <th>RF</th>\n",
       "    </tr>\n",
       "  </thead>\n",
       "  <tbody>\n",
       "    <tr>\n",
       "      <th>0</th>\n",
       "      <td>19630701</td>\n",
       "      <td>-0.67</td>\n",
       "      <td>0.00</td>\n",
       "      <td>-0.32</td>\n",
       "      <td>-0.01</td>\n",
       "      <td>0.15</td>\n",
       "      <td>0.012</td>\n",
       "    </tr>\n",
       "    <tr>\n",
       "      <th>1</th>\n",
       "      <td>19630702</td>\n",
       "      <td>0.79</td>\n",
       "      <td>-0.27</td>\n",
       "      <td>0.27</td>\n",
       "      <td>-0.07</td>\n",
       "      <td>-0.19</td>\n",
       "      <td>0.012</td>\n",
       "    </tr>\n",
       "    <tr>\n",
       "      <th>2</th>\n",
       "      <td>19630703</td>\n",
       "      <td>0.63</td>\n",
       "      <td>-0.17</td>\n",
       "      <td>-0.09</td>\n",
       "      <td>0.17</td>\n",
       "      <td>-0.33</td>\n",
       "      <td>0.012</td>\n",
       "    </tr>\n",
       "    <tr>\n",
       "      <th>3</th>\n",
       "      <td>19630705</td>\n",
       "      <td>0.40</td>\n",
       "      <td>0.08</td>\n",
       "      <td>-0.28</td>\n",
       "      <td>0.08</td>\n",
       "      <td>-0.33</td>\n",
       "      <td>0.012</td>\n",
       "    </tr>\n",
       "    <tr>\n",
       "      <th>4</th>\n",
       "      <td>19630708</td>\n",
       "      <td>-0.63</td>\n",
       "      <td>0.04</td>\n",
       "      <td>-0.18</td>\n",
       "      <td>-0.29</td>\n",
       "      <td>0.13</td>\n",
       "      <td>0.012</td>\n",
       "    </tr>\n",
       "  </tbody>\n",
       "</table>\n",
       "</div>"
      ],
      "text/plain": [
       "       Date  Mkt-RF   SMB   HML   RMW   CMA     RF\n",
       "0  19630701   -0.67  0.00 -0.32 -0.01  0.15  0.012\n",
       "1  19630702    0.79 -0.27  0.27 -0.07 -0.19  0.012\n",
       "2  19630703    0.63 -0.17 -0.09  0.17 -0.33  0.012\n",
       "3  19630705    0.40  0.08 -0.28  0.08 -0.33  0.012\n",
       "4  19630708   -0.63  0.04 -0.18 -0.29  0.13  0.012"
      ]
     },
     "execution_count": 3,
     "metadata": {},
     "output_type": "execute_result"
    }
   ],
   "source": [
    "df_fama.head()"
   ]
  },
  {
   "cell_type": "code",
   "execution_count": 4,
   "metadata": {},
   "outputs": [],
   "source": [
    "df_fama = df_fama[df_fama.Date > 20160515]"
   ]
  },
  {
   "cell_type": "code",
   "execution_count": 5,
   "metadata": {},
   "outputs": [
    {
     "data": {
      "text/plain": [
       "(997, 7)"
      ]
     },
     "execution_count": 5,
     "metadata": {},
     "output_type": "execute_result"
    }
   ],
   "source": [
    "df_fama.shape"
   ]
  },
  {
   "cell_type": "code",
   "execution_count": 6,
   "metadata": {},
   "outputs": [],
   "source": [
    "df_fama.index = range(0, 997, 1)"
   ]
  },
  {
   "cell_type": "code",
   "execution_count": 7,
   "metadata": {},
   "outputs": [],
   "source": [
    "df_jpm = pd.read_csv(r'C:\\Users\\krish\\Desktop\\Subjects\\AppliedML\\Lec-4\\JPM.csv')\n",
    "df_jpm = df_jpm[df_jpm.Date <= '2020-04-30']"
   ]
  },
  {
   "cell_type": "code",
   "execution_count": 8,
   "metadata": {},
   "outputs": [
    {
     "data": {
      "text/plain": [
       "(997, 7)"
      ]
     },
     "execution_count": 8,
     "metadata": {},
     "output_type": "execute_result"
    }
   ],
   "source": [
    "df_jpm.shape"
   ]
  },
  {
   "cell_type": "code",
   "execution_count": 9,
   "metadata": {},
   "outputs": [
    {
     "data": {
      "text/html": [
       "<div>\n",
       "<style scoped>\n",
       "    .dataframe tbody tr th:only-of-type {\n",
       "        vertical-align: middle;\n",
       "    }\n",
       "\n",
       "    .dataframe tbody tr th {\n",
       "        vertical-align: top;\n",
       "    }\n",
       "\n",
       "    .dataframe thead th {\n",
       "        text-align: right;\n",
       "    }\n",
       "</style>\n",
       "<table border=\"1\" class=\"dataframe\">\n",
       "  <thead>\n",
       "    <tr style=\"text-align: right;\">\n",
       "      <th></th>\n",
       "      <th>Date</th>\n",
       "      <th>Open</th>\n",
       "      <th>High</th>\n",
       "      <th>Low</th>\n",
       "      <th>Close</th>\n",
       "      <th>Adj Close</th>\n",
       "      <th>Volume</th>\n",
       "    </tr>\n",
       "  </thead>\n",
       "  <tbody>\n",
       "    <tr>\n",
       "      <th>0</th>\n",
       "      <td>2016-05-16</td>\n",
       "      <td>61.209999</td>\n",
       "      <td>61.990002</td>\n",
       "      <td>61.000000</td>\n",
       "      <td>61.660000</td>\n",
       "      <td>55.047691</td>\n",
       "      <td>10951300</td>\n",
       "    </tr>\n",
       "    <tr>\n",
       "      <th>1</th>\n",
       "      <td>2016-05-17</td>\n",
       "      <td>61.430000</td>\n",
       "      <td>62.160000</td>\n",
       "      <td>61.150002</td>\n",
       "      <td>61.660000</td>\n",
       "      <td>55.047691</td>\n",
       "      <td>12180900</td>\n",
       "    </tr>\n",
       "    <tr>\n",
       "      <th>2</th>\n",
       "      <td>2016-05-18</td>\n",
       "      <td>61.700001</td>\n",
       "      <td>64.169998</td>\n",
       "      <td>61.689999</td>\n",
       "      <td>64.040001</td>\n",
       "      <td>57.172466</td>\n",
       "      <td>24007100</td>\n",
       "    </tr>\n",
       "    <tr>\n",
       "      <th>3</th>\n",
       "      <td>2016-05-19</td>\n",
       "      <td>63.529999</td>\n",
       "      <td>64.220001</td>\n",
       "      <td>62.900002</td>\n",
       "      <td>63.389999</td>\n",
       "      <td>56.592175</td>\n",
       "      <td>16076200</td>\n",
       "    </tr>\n",
       "    <tr>\n",
       "      <th>4</th>\n",
       "      <td>2016-05-20</td>\n",
       "      <td>63.860001</td>\n",
       "      <td>64.190002</td>\n",
       "      <td>63.369999</td>\n",
       "      <td>63.509998</td>\n",
       "      <td>56.699303</td>\n",
       "      <td>11862000</td>\n",
       "    </tr>\n",
       "  </tbody>\n",
       "</table>\n",
       "</div>"
      ],
      "text/plain": [
       "         Date       Open       High        Low      Close  Adj Close    Volume\n",
       "0  2016-05-16  61.209999  61.990002  61.000000  61.660000  55.047691  10951300\n",
       "1  2016-05-17  61.430000  62.160000  61.150002  61.660000  55.047691  12180900\n",
       "2  2016-05-18  61.700001  64.169998  61.689999  64.040001  57.172466  24007100\n",
       "3  2016-05-19  63.529999  64.220001  62.900002  63.389999  56.592175  16076200\n",
       "4  2016-05-20  63.860001  64.190002  63.369999  63.509998  56.699303  11862000"
      ]
     },
     "execution_count": 9,
     "metadata": {},
     "output_type": "execute_result"
    }
   ],
   "source": [
    "df_jpm.head()"
   ]
  },
  {
   "cell_type": "code",
   "execution_count": 10,
   "metadata": {},
   "outputs": [],
   "source": [
    "df_jpm['MktRF'] = df_fama['Mkt-RF']"
   ]
  },
  {
   "cell_type": "code",
   "execution_count": 11,
   "metadata": {},
   "outputs": [],
   "source": [
    "#df_jpm['MktRF'] = df_fama['Mkt-RF']\n",
    "df_jpm['SMB'] = df_fama['SMB']\n",
    "df_jpm['HML'] = df_fama['HML']\n",
    "df_jpm['RF'] = df_fama['RF']\n",
    "df_jpm['CMA'] = df_fama['CMA']\n",
    "df_jpm['RMW'] = df_fama['RMW']"
   ]
  },
  {
   "cell_type": "code",
   "execution_count": 12,
   "metadata": {},
   "outputs": [
    {
     "data": {
      "text/html": [
       "<div>\n",
       "<style scoped>\n",
       "    .dataframe tbody tr th:only-of-type {\n",
       "        vertical-align: middle;\n",
       "    }\n",
       "\n",
       "    .dataframe tbody tr th {\n",
       "        vertical-align: top;\n",
       "    }\n",
       "\n",
       "    .dataframe thead th {\n",
       "        text-align: right;\n",
       "    }\n",
       "</style>\n",
       "<table border=\"1\" class=\"dataframe\">\n",
       "  <thead>\n",
       "    <tr style=\"text-align: right;\">\n",
       "      <th></th>\n",
       "      <th>Date</th>\n",
       "      <th>Open</th>\n",
       "      <th>High</th>\n",
       "      <th>Low</th>\n",
       "      <th>Close</th>\n",
       "      <th>Adj Close</th>\n",
       "      <th>Volume</th>\n",
       "      <th>MktRF</th>\n",
       "      <th>SMB</th>\n",
       "      <th>HML</th>\n",
       "      <th>RF</th>\n",
       "      <th>CMA</th>\n",
       "      <th>RMW</th>\n",
       "    </tr>\n",
       "  </thead>\n",
       "  <tbody>\n",
       "    <tr>\n",
       "      <th>0</th>\n",
       "      <td>2016-05-16</td>\n",
       "      <td>61.209999</td>\n",
       "      <td>61.990002</td>\n",
       "      <td>61.000000</td>\n",
       "      <td>61.660000</td>\n",
       "      <td>55.047691</td>\n",
       "      <td>10951300</td>\n",
       "      <td>0.99</td>\n",
       "      <td>0.20</td>\n",
       "      <td>-0.24</td>\n",
       "      <td>0.001</td>\n",
       "      <td>-0.31</td>\n",
       "      <td>-0.05</td>\n",
       "    </tr>\n",
       "    <tr>\n",
       "      <th>1</th>\n",
       "      <td>2016-05-17</td>\n",
       "      <td>61.430000</td>\n",
       "      <td>62.160000</td>\n",
       "      <td>61.150002</td>\n",
       "      <td>61.660000</td>\n",
       "      <td>55.047691</td>\n",
       "      <td>12180900</td>\n",
       "      <td>-0.95</td>\n",
       "      <td>-0.68</td>\n",
       "      <td>0.61</td>\n",
       "      <td>0.001</td>\n",
       "      <td>-0.10</td>\n",
       "      <td>-0.12</td>\n",
       "    </tr>\n",
       "    <tr>\n",
       "      <th>2</th>\n",
       "      <td>2016-05-18</td>\n",
       "      <td>61.700001</td>\n",
       "      <td>64.169998</td>\n",
       "      <td>61.689999</td>\n",
       "      <td>64.040001</td>\n",
       "      <td>57.172466</td>\n",
       "      <td>24007100</td>\n",
       "      <td>0.10</td>\n",
       "      <td>0.14</td>\n",
       "      <td>0.83</td>\n",
       "      <td>0.001</td>\n",
       "      <td>-0.65</td>\n",
       "      <td>-1.34</td>\n",
       "    </tr>\n",
       "    <tr>\n",
       "      <th>3</th>\n",
       "      <td>2016-05-19</td>\n",
       "      <td>63.529999</td>\n",
       "      <td>64.220001</td>\n",
       "      <td>62.900002</td>\n",
       "      <td>63.389999</td>\n",
       "      <td>56.592175</td>\n",
       "      <td>16076200</td>\n",
       "      <td>-0.33</td>\n",
       "      <td>-0.31</td>\n",
       "      <td>-0.30</td>\n",
       "      <td>0.001</td>\n",
       "      <td>-0.01</td>\n",
       "      <td>0.39</td>\n",
       "    </tr>\n",
       "    <tr>\n",
       "      <th>4</th>\n",
       "      <td>2016-05-20</td>\n",
       "      <td>63.860001</td>\n",
       "      <td>64.190002</td>\n",
       "      <td>63.369999</td>\n",
       "      <td>63.509998</td>\n",
       "      <td>56.699303</td>\n",
       "      <td>11862000</td>\n",
       "      <td>0.75</td>\n",
       "      <td>0.84</td>\n",
       "      <td>-0.30</td>\n",
       "      <td>0.001</td>\n",
       "      <td>-0.38</td>\n",
       "      <td>-0.39</td>\n",
       "    </tr>\n",
       "  </tbody>\n",
       "</table>\n",
       "</div>"
      ],
      "text/plain": [
       "         Date       Open       High        Low      Close  Adj Close  \\\n",
       "0  2016-05-16  61.209999  61.990002  61.000000  61.660000  55.047691   \n",
       "1  2016-05-17  61.430000  62.160000  61.150002  61.660000  55.047691   \n",
       "2  2016-05-18  61.700001  64.169998  61.689999  64.040001  57.172466   \n",
       "3  2016-05-19  63.529999  64.220001  62.900002  63.389999  56.592175   \n",
       "4  2016-05-20  63.860001  64.190002  63.369999  63.509998  56.699303   \n",
       "\n",
       "     Volume  MktRF   SMB   HML     RF   CMA   RMW  \n",
       "0  10951300   0.99  0.20 -0.24  0.001 -0.31 -0.05  \n",
       "1  12180900  -0.95 -0.68  0.61  0.001 -0.10 -0.12  \n",
       "2  24007100   0.10  0.14  0.83  0.001 -0.65 -1.34  \n",
       "3  16076200  -0.33 -0.31 -0.30  0.001 -0.01  0.39  \n",
       "4  11862000   0.75  0.84 -0.30  0.001 -0.38 -0.39  "
      ]
     },
     "execution_count": 12,
     "metadata": {},
     "output_type": "execute_result"
    }
   ],
   "source": [
    "df_jpm.head()"
   ]
  },
  {
   "cell_type": "code",
   "execution_count": 13,
   "metadata": {},
   "outputs": [],
   "source": [
    "df_jpm['stock_return'] = df_jpm['Adj Close'].pct_change()"
   ]
  },
  {
   "cell_type": "code",
   "execution_count": 14,
   "metadata": {},
   "outputs": [
    {
     "data": {
      "text/html": [
       "<div>\n",
       "<style scoped>\n",
       "    .dataframe tbody tr th:only-of-type {\n",
       "        vertical-align: middle;\n",
       "    }\n",
       "\n",
       "    .dataframe tbody tr th {\n",
       "        vertical-align: top;\n",
       "    }\n",
       "\n",
       "    .dataframe thead th {\n",
       "        text-align: right;\n",
       "    }\n",
       "</style>\n",
       "<table border=\"1\" class=\"dataframe\">\n",
       "  <thead>\n",
       "    <tr style=\"text-align: right;\">\n",
       "      <th></th>\n",
       "      <th>Date</th>\n",
       "      <th>Open</th>\n",
       "      <th>High</th>\n",
       "      <th>Low</th>\n",
       "      <th>Close</th>\n",
       "      <th>Adj Close</th>\n",
       "      <th>Volume</th>\n",
       "      <th>MktRF</th>\n",
       "      <th>SMB</th>\n",
       "      <th>HML</th>\n",
       "      <th>RF</th>\n",
       "      <th>CMA</th>\n",
       "      <th>RMW</th>\n",
       "      <th>stock_return</th>\n",
       "    </tr>\n",
       "  </thead>\n",
       "  <tbody>\n",
       "    <tr>\n",
       "      <th>0</th>\n",
       "      <td>2016-05-16</td>\n",
       "      <td>61.209999</td>\n",
       "      <td>61.990002</td>\n",
       "      <td>61.000000</td>\n",
       "      <td>61.660000</td>\n",
       "      <td>55.047691</td>\n",
       "      <td>10951300</td>\n",
       "      <td>0.99</td>\n",
       "      <td>0.20</td>\n",
       "      <td>-0.24</td>\n",
       "      <td>0.001</td>\n",
       "      <td>-0.31</td>\n",
       "      <td>-0.05</td>\n",
       "      <td>NaN</td>\n",
       "    </tr>\n",
       "    <tr>\n",
       "      <th>1</th>\n",
       "      <td>2016-05-17</td>\n",
       "      <td>61.430000</td>\n",
       "      <td>62.160000</td>\n",
       "      <td>61.150002</td>\n",
       "      <td>61.660000</td>\n",
       "      <td>55.047691</td>\n",
       "      <td>12180900</td>\n",
       "      <td>-0.95</td>\n",
       "      <td>-0.68</td>\n",
       "      <td>0.61</td>\n",
       "      <td>0.001</td>\n",
       "      <td>-0.10</td>\n",
       "      <td>-0.12</td>\n",
       "      <td>0.000000</td>\n",
       "    </tr>\n",
       "    <tr>\n",
       "      <th>2</th>\n",
       "      <td>2016-05-18</td>\n",
       "      <td>61.700001</td>\n",
       "      <td>64.169998</td>\n",
       "      <td>61.689999</td>\n",
       "      <td>64.040001</td>\n",
       "      <td>57.172466</td>\n",
       "      <td>24007100</td>\n",
       "      <td>0.10</td>\n",
       "      <td>0.14</td>\n",
       "      <td>0.83</td>\n",
       "      <td>0.001</td>\n",
       "      <td>-0.65</td>\n",
       "      <td>-1.34</td>\n",
       "      <td>0.038599</td>\n",
       "    </tr>\n",
       "    <tr>\n",
       "      <th>3</th>\n",
       "      <td>2016-05-19</td>\n",
       "      <td>63.529999</td>\n",
       "      <td>64.220001</td>\n",
       "      <td>62.900002</td>\n",
       "      <td>63.389999</td>\n",
       "      <td>56.592175</td>\n",
       "      <td>16076200</td>\n",
       "      <td>-0.33</td>\n",
       "      <td>-0.31</td>\n",
       "      <td>-0.30</td>\n",
       "      <td>0.001</td>\n",
       "      <td>-0.01</td>\n",
       "      <td>0.39</td>\n",
       "      <td>-0.010150</td>\n",
       "    </tr>\n",
       "    <tr>\n",
       "      <th>4</th>\n",
       "      <td>2016-05-20</td>\n",
       "      <td>63.860001</td>\n",
       "      <td>64.190002</td>\n",
       "      <td>63.369999</td>\n",
       "      <td>63.509998</td>\n",
       "      <td>56.699303</td>\n",
       "      <td>11862000</td>\n",
       "      <td>0.75</td>\n",
       "      <td>0.84</td>\n",
       "      <td>-0.30</td>\n",
       "      <td>0.001</td>\n",
       "      <td>-0.38</td>\n",
       "      <td>-0.39</td>\n",
       "      <td>0.001893</td>\n",
       "    </tr>\n",
       "  </tbody>\n",
       "</table>\n",
       "</div>"
      ],
      "text/plain": [
       "         Date       Open       High        Low      Close  Adj Close  \\\n",
       "0  2016-05-16  61.209999  61.990002  61.000000  61.660000  55.047691   \n",
       "1  2016-05-17  61.430000  62.160000  61.150002  61.660000  55.047691   \n",
       "2  2016-05-18  61.700001  64.169998  61.689999  64.040001  57.172466   \n",
       "3  2016-05-19  63.529999  64.220001  62.900002  63.389999  56.592175   \n",
       "4  2016-05-20  63.860001  64.190002  63.369999  63.509998  56.699303   \n",
       "\n",
       "     Volume  MktRF   SMB   HML     RF   CMA   RMW  stock_return  \n",
       "0  10951300   0.99  0.20 -0.24  0.001 -0.31 -0.05           NaN  \n",
       "1  12180900  -0.95 -0.68  0.61  0.001 -0.10 -0.12      0.000000  \n",
       "2  24007100   0.10  0.14  0.83  0.001 -0.65 -1.34      0.038599  \n",
       "3  16076200  -0.33 -0.31 -0.30  0.001 -0.01  0.39     -0.010150  \n",
       "4  11862000   0.75  0.84 -0.30  0.001 -0.38 -0.39      0.001893  "
      ]
     },
     "execution_count": 14,
     "metadata": {},
     "output_type": "execute_result"
    }
   ],
   "source": [
    "df_jpm.head()"
   ]
  },
  {
   "cell_type": "code",
   "execution_count": 15,
   "metadata": {},
   "outputs": [],
   "source": [
    "df_jpm = df_jpm[df_jpm['stock_return'].notna()]"
   ]
  },
  {
   "cell_type": "code",
   "execution_count": 16,
   "metadata": {},
   "outputs": [
    {
     "data": {
      "text/html": [
       "<div>\n",
       "<style scoped>\n",
       "    .dataframe tbody tr th:only-of-type {\n",
       "        vertical-align: middle;\n",
       "    }\n",
       "\n",
       "    .dataframe tbody tr th {\n",
       "        vertical-align: top;\n",
       "    }\n",
       "\n",
       "    .dataframe thead th {\n",
       "        text-align: right;\n",
       "    }\n",
       "</style>\n",
       "<table border=\"1\" class=\"dataframe\">\n",
       "  <thead>\n",
       "    <tr style=\"text-align: right;\">\n",
       "      <th></th>\n",
       "      <th>Date</th>\n",
       "      <th>Open</th>\n",
       "      <th>High</th>\n",
       "      <th>Low</th>\n",
       "      <th>Close</th>\n",
       "      <th>Adj Close</th>\n",
       "      <th>Volume</th>\n",
       "      <th>MktRF</th>\n",
       "      <th>SMB</th>\n",
       "      <th>HML</th>\n",
       "      <th>RF</th>\n",
       "      <th>CMA</th>\n",
       "      <th>RMW</th>\n",
       "      <th>stock_return</th>\n",
       "    </tr>\n",
       "  </thead>\n",
       "  <tbody>\n",
       "    <tr>\n",
       "      <th>1</th>\n",
       "      <td>2016-05-17</td>\n",
       "      <td>61.430000</td>\n",
       "      <td>62.160000</td>\n",
       "      <td>61.150002</td>\n",
       "      <td>61.660000</td>\n",
       "      <td>55.047691</td>\n",
       "      <td>12180900</td>\n",
       "      <td>-0.95</td>\n",
       "      <td>-0.68</td>\n",
       "      <td>0.61</td>\n",
       "      <td>0.001</td>\n",
       "      <td>-0.10</td>\n",
       "      <td>-0.12</td>\n",
       "      <td>0.000000</td>\n",
       "    </tr>\n",
       "    <tr>\n",
       "      <th>2</th>\n",
       "      <td>2016-05-18</td>\n",
       "      <td>61.700001</td>\n",
       "      <td>64.169998</td>\n",
       "      <td>61.689999</td>\n",
       "      <td>64.040001</td>\n",
       "      <td>57.172466</td>\n",
       "      <td>24007100</td>\n",
       "      <td>0.10</td>\n",
       "      <td>0.14</td>\n",
       "      <td>0.83</td>\n",
       "      <td>0.001</td>\n",
       "      <td>-0.65</td>\n",
       "      <td>-1.34</td>\n",
       "      <td>0.038599</td>\n",
       "    </tr>\n",
       "    <tr>\n",
       "      <th>3</th>\n",
       "      <td>2016-05-19</td>\n",
       "      <td>63.529999</td>\n",
       "      <td>64.220001</td>\n",
       "      <td>62.900002</td>\n",
       "      <td>63.389999</td>\n",
       "      <td>56.592175</td>\n",
       "      <td>16076200</td>\n",
       "      <td>-0.33</td>\n",
       "      <td>-0.31</td>\n",
       "      <td>-0.30</td>\n",
       "      <td>0.001</td>\n",
       "      <td>-0.01</td>\n",
       "      <td>0.39</td>\n",
       "      <td>-0.010150</td>\n",
       "    </tr>\n",
       "    <tr>\n",
       "      <th>4</th>\n",
       "      <td>2016-05-20</td>\n",
       "      <td>63.860001</td>\n",
       "      <td>64.190002</td>\n",
       "      <td>63.369999</td>\n",
       "      <td>63.509998</td>\n",
       "      <td>56.699303</td>\n",
       "      <td>11862000</td>\n",
       "      <td>0.75</td>\n",
       "      <td>0.84</td>\n",
       "      <td>-0.30</td>\n",
       "      <td>0.001</td>\n",
       "      <td>-0.38</td>\n",
       "      <td>-0.39</td>\n",
       "      <td>0.001893</td>\n",
       "    </tr>\n",
       "    <tr>\n",
       "      <th>5</th>\n",
       "      <td>2016-05-23</td>\n",
       "      <td>63.450001</td>\n",
       "      <td>63.869999</td>\n",
       "      <td>63.160000</td>\n",
       "      <td>63.459999</td>\n",
       "      <td>56.654667</td>\n",
       "      <td>9347500</td>\n",
       "      <td>-0.18</td>\n",
       "      <td>0.24</td>\n",
       "      <td>-0.32</td>\n",
       "      <td>0.001</td>\n",
       "      <td>0.08</td>\n",
       "      <td>-0.21</td>\n",
       "      <td>-0.000787</td>\n",
       "    </tr>\n",
       "  </tbody>\n",
       "</table>\n",
       "</div>"
      ],
      "text/plain": [
       "         Date       Open       High        Low      Close  Adj Close  \\\n",
       "1  2016-05-17  61.430000  62.160000  61.150002  61.660000  55.047691   \n",
       "2  2016-05-18  61.700001  64.169998  61.689999  64.040001  57.172466   \n",
       "3  2016-05-19  63.529999  64.220001  62.900002  63.389999  56.592175   \n",
       "4  2016-05-20  63.860001  64.190002  63.369999  63.509998  56.699303   \n",
       "5  2016-05-23  63.450001  63.869999  63.160000  63.459999  56.654667   \n",
       "\n",
       "     Volume  MktRF   SMB   HML     RF   CMA   RMW  stock_return  \n",
       "1  12180900  -0.95 -0.68  0.61  0.001 -0.10 -0.12      0.000000  \n",
       "2  24007100   0.10  0.14  0.83  0.001 -0.65 -1.34      0.038599  \n",
       "3  16076200  -0.33 -0.31 -0.30  0.001 -0.01  0.39     -0.010150  \n",
       "4  11862000   0.75  0.84 -0.30  0.001 -0.38 -0.39      0.001893  \n",
       "5   9347500  -0.18  0.24 -0.32  0.001  0.08 -0.21     -0.000787  "
      ]
     },
     "execution_count": 16,
     "metadata": {},
     "output_type": "execute_result"
    }
   ],
   "source": [
    "df_jpm.head()"
   ]
  },
  {
   "cell_type": "code",
   "execution_count": 17,
   "metadata": {},
   "outputs": [],
   "source": [
    "df_jpm = df_jpm[df_jpm.stock_return != 0]"
   ]
  },
  {
   "cell_type": "code",
   "execution_count": 18,
   "metadata": {},
   "outputs": [
    {
     "data": {
      "text/html": [
       "<div>\n",
       "<style scoped>\n",
       "    .dataframe tbody tr th:only-of-type {\n",
       "        vertical-align: middle;\n",
       "    }\n",
       "\n",
       "    .dataframe tbody tr th {\n",
       "        vertical-align: top;\n",
       "    }\n",
       "\n",
       "    .dataframe thead th {\n",
       "        text-align: right;\n",
       "    }\n",
       "</style>\n",
       "<table border=\"1\" class=\"dataframe\">\n",
       "  <thead>\n",
       "    <tr style=\"text-align: right;\">\n",
       "      <th></th>\n",
       "      <th>Date</th>\n",
       "      <th>Open</th>\n",
       "      <th>High</th>\n",
       "      <th>Low</th>\n",
       "      <th>Close</th>\n",
       "      <th>Adj Close</th>\n",
       "      <th>Volume</th>\n",
       "      <th>MktRF</th>\n",
       "      <th>SMB</th>\n",
       "      <th>HML</th>\n",
       "      <th>RF</th>\n",
       "      <th>CMA</th>\n",
       "      <th>RMW</th>\n",
       "      <th>stock_return</th>\n",
       "    </tr>\n",
       "  </thead>\n",
       "  <tbody>\n",
       "    <tr>\n",
       "      <th>2</th>\n",
       "      <td>2016-05-18</td>\n",
       "      <td>61.700001</td>\n",
       "      <td>64.169998</td>\n",
       "      <td>61.689999</td>\n",
       "      <td>64.040001</td>\n",
       "      <td>57.172466</td>\n",
       "      <td>24007100</td>\n",
       "      <td>0.10</td>\n",
       "      <td>0.14</td>\n",
       "      <td>0.83</td>\n",
       "      <td>0.001</td>\n",
       "      <td>-0.65</td>\n",
       "      <td>-1.34</td>\n",
       "      <td>0.038599</td>\n",
       "    </tr>\n",
       "    <tr>\n",
       "      <th>3</th>\n",
       "      <td>2016-05-19</td>\n",
       "      <td>63.529999</td>\n",
       "      <td>64.220001</td>\n",
       "      <td>62.900002</td>\n",
       "      <td>63.389999</td>\n",
       "      <td>56.592175</td>\n",
       "      <td>16076200</td>\n",
       "      <td>-0.33</td>\n",
       "      <td>-0.31</td>\n",
       "      <td>-0.30</td>\n",
       "      <td>0.001</td>\n",
       "      <td>-0.01</td>\n",
       "      <td>0.39</td>\n",
       "      <td>-0.010150</td>\n",
       "    </tr>\n",
       "    <tr>\n",
       "      <th>4</th>\n",
       "      <td>2016-05-20</td>\n",
       "      <td>63.860001</td>\n",
       "      <td>64.190002</td>\n",
       "      <td>63.369999</td>\n",
       "      <td>63.509998</td>\n",
       "      <td>56.699303</td>\n",
       "      <td>11862000</td>\n",
       "      <td>0.75</td>\n",
       "      <td>0.84</td>\n",
       "      <td>-0.30</td>\n",
       "      <td>0.001</td>\n",
       "      <td>-0.38</td>\n",
       "      <td>-0.39</td>\n",
       "      <td>0.001893</td>\n",
       "    </tr>\n",
       "    <tr>\n",
       "      <th>5</th>\n",
       "      <td>2016-05-23</td>\n",
       "      <td>63.450001</td>\n",
       "      <td>63.869999</td>\n",
       "      <td>63.160000</td>\n",
       "      <td>63.459999</td>\n",
       "      <td>56.654667</td>\n",
       "      <td>9347500</td>\n",
       "      <td>-0.18</td>\n",
       "      <td>0.24</td>\n",
       "      <td>-0.32</td>\n",
       "      <td>0.001</td>\n",
       "      <td>0.08</td>\n",
       "      <td>-0.21</td>\n",
       "      <td>-0.000787</td>\n",
       "    </tr>\n",
       "    <tr>\n",
       "      <th>6</th>\n",
       "      <td>2016-05-24</td>\n",
       "      <td>63.939999</td>\n",
       "      <td>64.769997</td>\n",
       "      <td>63.810001</td>\n",
       "      <td>64.540001</td>\n",
       "      <td>57.618855</td>\n",
       "      <td>13839400</td>\n",
       "      <td>1.43</td>\n",
       "      <td>0.61</td>\n",
       "      <td>-0.34</td>\n",
       "      <td>0.001</td>\n",
       "      <td>-0.39</td>\n",
       "      <td>-0.10</td>\n",
       "      <td>0.017019</td>\n",
       "    </tr>\n",
       "  </tbody>\n",
       "</table>\n",
       "</div>"
      ],
      "text/plain": [
       "         Date       Open       High        Low      Close  Adj Close  \\\n",
       "2  2016-05-18  61.700001  64.169998  61.689999  64.040001  57.172466   \n",
       "3  2016-05-19  63.529999  64.220001  62.900002  63.389999  56.592175   \n",
       "4  2016-05-20  63.860001  64.190002  63.369999  63.509998  56.699303   \n",
       "5  2016-05-23  63.450001  63.869999  63.160000  63.459999  56.654667   \n",
       "6  2016-05-24  63.939999  64.769997  63.810001  64.540001  57.618855   \n",
       "\n",
       "     Volume  MktRF   SMB   HML     RF   CMA   RMW  stock_return  \n",
       "2  24007100   0.10  0.14  0.83  0.001 -0.65 -1.34      0.038599  \n",
       "3  16076200  -0.33 -0.31 -0.30  0.001 -0.01  0.39     -0.010150  \n",
       "4  11862000   0.75  0.84 -0.30  0.001 -0.38 -0.39      0.001893  \n",
       "5   9347500  -0.18  0.24 -0.32  0.001  0.08 -0.21     -0.000787  \n",
       "6  13839400   1.43  0.61 -0.34  0.001 -0.39 -0.10      0.017019  "
      ]
     },
     "execution_count": 18,
     "metadata": {},
     "output_type": "execute_result"
    }
   ],
   "source": [
    "df_jpm.head()"
   ]
  },
  {
   "cell_type": "code",
   "execution_count": 19,
   "metadata": {},
   "outputs": [
    {
     "data": {
      "text/plain": [
       "988"
      ]
     },
     "execution_count": 19,
     "metadata": {},
     "output_type": "execute_result"
    }
   ],
   "source": [
    "T = df_jpm.shape[0]\n",
    "T"
   ]
  },
  {
   "cell_type": "code",
   "execution_count": 20,
   "metadata": {},
   "outputs": [],
   "source": [
    "columns = ['MktRF','SMB','HML','CMA','RMW']\n",
    "X=df_jpm[columns]"
   ]
  },
  {
   "cell_type": "code",
   "execution_count": 21,
   "metadata": {},
   "outputs": [
    {
     "data": {
      "text/html": [
       "<div>\n",
       "<style scoped>\n",
       "    .dataframe tbody tr th:only-of-type {\n",
       "        vertical-align: middle;\n",
       "    }\n",
       "\n",
       "    .dataframe tbody tr th {\n",
       "        vertical-align: top;\n",
       "    }\n",
       "\n",
       "    .dataframe thead th {\n",
       "        text-align: right;\n",
       "    }\n",
       "</style>\n",
       "<table border=\"1\" class=\"dataframe\">\n",
       "  <thead>\n",
       "    <tr style=\"text-align: right;\">\n",
       "      <th></th>\n",
       "      <th>MktRF</th>\n",
       "      <th>SMB</th>\n",
       "      <th>HML</th>\n",
       "      <th>CMA</th>\n",
       "      <th>RMW</th>\n",
       "    </tr>\n",
       "  </thead>\n",
       "  <tbody>\n",
       "    <tr>\n",
       "      <th>2</th>\n",
       "      <td>0.10</td>\n",
       "      <td>0.14</td>\n",
       "      <td>0.83</td>\n",
       "      <td>-0.65</td>\n",
       "      <td>-1.34</td>\n",
       "    </tr>\n",
       "    <tr>\n",
       "      <th>3</th>\n",
       "      <td>-0.33</td>\n",
       "      <td>-0.31</td>\n",
       "      <td>-0.30</td>\n",
       "      <td>-0.01</td>\n",
       "      <td>0.39</td>\n",
       "    </tr>\n",
       "    <tr>\n",
       "      <th>4</th>\n",
       "      <td>0.75</td>\n",
       "      <td>0.84</td>\n",
       "      <td>-0.30</td>\n",
       "      <td>-0.38</td>\n",
       "      <td>-0.39</td>\n",
       "    </tr>\n",
       "    <tr>\n",
       "      <th>5</th>\n",
       "      <td>-0.18</td>\n",
       "      <td>0.24</td>\n",
       "      <td>-0.32</td>\n",
       "      <td>0.08</td>\n",
       "      <td>-0.21</td>\n",
       "    </tr>\n",
       "    <tr>\n",
       "      <th>6</th>\n",
       "      <td>1.43</td>\n",
       "      <td>0.61</td>\n",
       "      <td>-0.34</td>\n",
       "      <td>-0.39</td>\n",
       "      <td>-0.10</td>\n",
       "    </tr>\n",
       "  </tbody>\n",
       "</table>\n",
       "</div>"
      ],
      "text/plain": [
       "   MktRF   SMB   HML   CMA   RMW\n",
       "2   0.10  0.14  0.83 -0.65 -1.34\n",
       "3  -0.33 -0.31 -0.30 -0.01  0.39\n",
       "4   0.75  0.84 -0.30 -0.38 -0.39\n",
       "5  -0.18  0.24 -0.32  0.08 -0.21\n",
       "6   1.43  0.61 -0.34 -0.39 -0.10"
      ]
     },
     "execution_count": 21,
     "metadata": {},
     "output_type": "execute_result"
    }
   ],
   "source": [
    "X.head()"
   ]
  },
  {
   "cell_type": "code",
   "execution_count": 22,
   "metadata": {},
   "outputs": [
    {
     "data": {
      "text/plain": [
       "(988, 6)"
      ]
     },
     "execution_count": 22,
     "metadata": {},
     "output_type": "execute_result"
    }
   ],
   "source": [
    "X = np.column_stack([np.ones((len(X),1)),X])\n",
    "X.shape"
   ]
  },
  {
   "cell_type": "code",
   "execution_count": 23,
   "metadata": {},
   "outputs": [
    {
     "data": {
      "text/plain": [
       "array([[ 1.  ,  0.1 ,  0.14,  0.83, -0.65, -1.34],\n",
       "       [ 1.  , -0.33, -0.31, -0.3 , -0.01,  0.39],\n",
       "       [ 1.  ,  0.75,  0.84, -0.3 , -0.38, -0.39],\n",
       "       ...,\n",
       "       [ 1.  , -0.44,  1.65,  2.89,  0.74,  1.39],\n",
       "       [ 1.  ,  2.92,  2.27,  2.04, -0.81,  1.22],\n",
       "       [ 1.  , -1.18, -2.06, -1.63, -0.1 ,  0.71]])"
      ]
     },
     "execution_count": 23,
     "metadata": {},
     "output_type": "execute_result"
    }
   ],
   "source": [
    "X"
   ]
  },
  {
   "cell_type": "code",
   "execution_count": 24,
   "metadata": {},
   "outputs": [
    {
     "data": {
      "text/plain": [
       "(988,)"
      ]
     },
     "execution_count": 24,
     "metadata": {},
     "output_type": "execute_result"
    }
   ],
   "source": [
    "Y = df_jpm['stock_return'].values\n",
    "Y.shape"
   ]
  },
  {
   "cell_type": "code",
   "execution_count": 25,
   "metadata": {},
   "outputs": [
    {
     "data": {
      "text/plain": [
       "array([ 3.85988034e-02, -1.01498333e-02,  1.89298255e-03, -7.87240718e-04,\n",
       "        1.70186862e-02,  1.51844739e-02, -7.47884813e-03,  6.15121862e-03,\n",
       "       -2.44561960e-03,  6.43484452e-03,  1.82670380e-03, -1.77784148e-02,\n",
       "        9.90101532e-03, -3.37008777e-03,  2.92031670e-03, -7.66269996e-03,\n",
       "       -1.40539794e-02, -8.92861858e-03, -1.88081815e-02, -1.77209089e-03,\n",
       "        4.03429218e-03,  9.64325293e-04,  1.44502246e-03,  9.29943464e-03,\n",
       "       -3.81256984e-03,  2.13681140e-02, -6.94769502e-02, -3.33892597e-02,\n",
       "        3.31539243e-02,  2.82258842e-02,  1.53593091e-02, -6.48721258e-03,\n",
       "       -2.79136515e-02,  1.07473742e-02,  6.47934141e-03,  2.06338255e-02,\n",
       "        7.11637450e-03,  1.49349451e-02, -6.32832832e-04,  1.51994357e-02,\n",
       "        9.35802649e-04, -3.42800488e-03, -1.56338748e-03,  1.09602914e-03,\n",
       "       -3.75416200e-03,  5.49555947e-03, -2.65450426e-03,  4.07043697e-03,\n",
       "        3.11879869e-03, -3.57521681e-03, -2.02814145e-03, -2.65747868e-03,\n",
       "       -2.35110155e-03,  1.58679973e-02, -1.54665153e-03,  2.69518781e-02,\n",
       "       -3.01680342e-03, -3.47948137e-03, -8.95705596e-03,  2.75731740e-03,\n",
       "       -2.13875109e-03,  6.12385847e-03, -1.52124884e-04,  2.73925654e-03,\n",
       "        9.10596793e-04, -1.36480422e-03, -9.10809199e-04, -4.55954897e-04,\n",
       "        2.73675763e-03,  1.81953672e-03,  2.27044143e-03,  1.10239007e-02,\n",
       "        8.21496181e-03, -4.29624062e-03,  4.16622402e-03, -7.41120690e-04,\n",
       "       -4.15170262e-03,  1.33996659e-03, -8.92178457e-03,  6.15159077e-03,\n",
       "       -7.90351485e-03, -1.95413067e-03,  3.61451174e-03, -1.23048296e-02,\n",
       "        5.62120028e-03,  4.07918087e-03,  5.71788564e-03,  8.22843211e-03,\n",
       "       -2.07735044e-03, -2.18588498e-02,  8.81744385e-03,  5.27407581e-03,\n",
       "       -1.58895848e-02,  1.43183734e-02, -1.20143283e-03,  8.63256316e-03,\n",
       "        1.63663869e-02,  2.65902872e-03,  3.53639209e-03,  7.78127650e-03,\n",
       "       -4.80759369e-03, -2.63508872e-03, -5.72424896e-03, -3.24770443e-03,\n",
       "       -5.18371097e-03,  7.89027008e-03,  9.60128405e-03, -1.31667650e-03,\n",
       "        3.36942169e-03,  5.54824302e-03, -1.01634942e-03,  4.79658907e-03,\n",
       "        1.44637104e-03, -1.73326918e-03,  2.17048798e-03, -4.18711949e-03,\n",
       "       -4.20467718e-03, -4.36823443e-03, -9.06694291e-03,  3.12869401e-02,\n",
       "        2.14663475e-03,  4.59801235e-02,  4.64163415e-02,  5.22139379e-04,\n",
       "        3.67713426e-02, -1.88659929e-03, -2.46975654e-02,  8.01041710e-03,\n",
       "       -3.97343669e-03,  4.37550098e-03,  6.14953469e-03,  4.20212919e-03,\n",
       "       -3.80161335e-04, -6.46981978e-03,  7.66091818e-03,  1.58385724e-02,\n",
       "        2.02073369e-02, -2.32282157e-03,  2.03428308e-02,  5.16472595e-03,\n",
       "        4.54056905e-03,  1.24893465e-02,  4.34677605e-03, -8.88971685e-03,\n",
       "        3.54201799e-04, -3.54076384e-04,  1.49885782e-02, -1.23254534e-02,\n",
       "        5.76895374e-03,  1.28759698e-02,  2.54241399e-03,  1.61385469e-03,\n",
       "        1.84145532e-03,  9.18845160e-04, -7.23047725e-03, -7.05197549e-03,\n",
       "        4.65704472e-03,  1.08936792e-02,  1.84432154e-03, -9.20480818e-03,\n",
       "        1.15981856e-04,  6.96664176e-04,  2.90076990e-03,  7.52063687e-03,\n",
       "       -9.64631732e-03,  5.33413560e-03, -3.63322971e-02,  4.66794334e-03,\n",
       "       -7.62452519e-03,  4.44174230e-03,  4.78191108e-04,  1.20652771e-02,\n",
       "        1.54628558e-02,  8.36918719e-03,  2.07478900e-03, -1.03530339e-02,\n",
       "       -1.62736711e-02,  3.78113629e-03, -4.23768536e-03,  3.06184201e-02,\n",
       "       -4.70301084e-03, -5.76029618e-04, -8.76398164e-03,  1.44253597e-02,\n",
       "       -2.29353642e-03,  1.32184093e-02,  1.59952150e-02,  1.15007883e-02,\n",
       "       -6.62555074e-04, -3.31350500e-03,  8.64453979e-03,  5.49108931e-04,\n",
       "        7.69101878e-04, -8.77864051e-03,  1.10693455e-03,  2.10099213e-03,\n",
       "        3.28845128e-02, -1.55981509e-02,  7.16279968e-03, -9.48271892e-03,\n",
       "       -5.54810184e-03, -2.18819284e-03,  3.94721391e-03, -3.16715222e-03,\n",
       "        8.76396394e-04,  1.64183290e-03,  2.40418562e-03, -9.80973082e-04,\n",
       "       -1.04758836e-02, -7.16815780e-03, -2.93233118e-02,  1.60193451e-03,\n",
       "       -1.59937242e-03, -1.14447573e-03, -5.72799241e-04,  1.55891367e-02,\n",
       "       -3.72472982e-03,  8.61017806e-03, -1.33662421e-02, -3.64304600e-03,\n",
       "        3.33255828e-03, -7.14201726e-03,  3.36469015e-03, -3.46920608e-03,\n",
       "       -3.48119525e-03, -1.74643182e-03, -3.84924637e-03, -1.17094467e-02,\n",
       "        1.72983110e-02, -8.15263273e-03, -8.22003938e-03,  1.29056667e-02,\n",
       "       -1.20398107e-02,  3.52579549e-02,  8.68581726e-03,  1.92609274e-03,\n",
       "       -9.27294951e-03, -6.96276822e-03,  6.89831433e-04, -6.43253870e-03,\n",
       "        5.78036523e-03,  1.14942394e-03, -1.14810428e-03,  1.14942394e-03,\n",
       "       -4.01837744e-03,  7.83867763e-03, -3.08824806e-03, -2.75348876e-03,\n",
       "        4.83190370e-03,  3.09153010e-03, -3.81238103e-02, -3.67823910e-03,\n",
       "        9.76634066e-03, -9.43663762e-04,  1.25149645e-02, -5.82831878e-04,\n",
       "       -4.20058598e-03,  1.17154317e-04, -1.71038738e-02, -2.08582156e-02,\n",
       "        1.10773132e-02, -5.05675440e-03,  1.81540165e-03,  2.05345606e-03,\n",
       "        1.14511286e-02,  1.23940845e-02,  2.36611193e-02,  2.30145207e-04,\n",
       "        3.33403025e-03, -2.06270590e-03, -5.97100702e-03, -4.50485482e-03,\n",
       "        2.19310026e-02, -6.24513481e-03, -4.57020469e-03, -1.14794004e-03,\n",
       "       -1.83864537e-03,  4.37462042e-03,  9.28502246e-03,  2.01021300e-02,\n",
       "        1.48073683e-02,  2.74274014e-03,  2.03520439e-02,  1.00269205e-02,\n",
       "       -3.20236299e-03,  5.03322998e-03, -7.03244108e-03, -3.86323093e-03,\n",
       "       -3.44707477e-03,  6.37771927e-03, -9.13017852e-03, -9.32236269e-03,\n",
       "       -3.50148343e-03,  1.42747704e-03, -3.39928896e-03,  4.29100777e-03,\n",
       "        1.66520460e-02, -9.37487538e-03, -4.13358487e-03, -2.94931523e-03,\n",
       "        5.69686674e-03,  1.33987121e-02,  8.60052209e-04, -6.55152410e-03,\n",
       "        1.25405551e-02,  3.84348778e-03, -3.61610893e-03, -1.60122181e-03,\n",
       "       -1.43269661e-02, -8.35214492e-03,  1.17041136e-02,  2.59494092e-03,\n",
       "       -6.90193235e-03, -1.56366777e-02,  9.92690995e-04, -1.21223506e-03,\n",
       "        1.02613853e-02,  1.20155530e-03, -1.63643682e-03,  4.04282022e-03,\n",
       "       -3.15590155e-03, -5.45850693e-03,  2.30527997e-03, -4.59995576e-03,\n",
       "        8.91185292e-03, -2.38819971e-02,  6.70319892e-03, -1.75342034e-02,\n",
       "       -1.24249640e-03,  1.54941888e-02,  1.22506561e-02,  2.86078660e-03,\n",
       "       -1.97483472e-03,  7.14513650e-03,  1.41891741e-02,  1.09770975e-02,\n",
       "        7.02579649e-03,  4.54544184e-03, -2.10452721e-03, -7.48700760e-03,\n",
       "       -4.46244975e-03,  1.57950307e-02,  2.10147122e-03,  1.36279147e-03,\n",
       "        1.39253290e-02,  5.26641572e-03, -1.01695357e-02,  1.34654801e-02,\n",
       "       -1.75094402e-03, -5.26205669e-03,  7.46810564e-03, -2.98565489e-03,\n",
       "       -8.77734275e-03, -1.35437452e-03,  2.06552192e-02, -2.24858798e-03,\n",
       "        3.78995765e-03,  1.22484132e-03,  1.42696736e-02, -1.70844869e-03,\n",
       "        1.59049674e-02,  9.90927125e-04,  7.12721736e-03,  2.94963340e-04,\n",
       "       -3.53730426e-03, -7.88873087e-03,  3.08102837e-03,  6.63898109e-03,\n",
       "       -1.77174891e-03, -6.21260879e-03, -2.01426773e-02, -1.12405164e-02,\n",
       "       -1.02596173e-04, -1.22892920e-03,  3.58937207e-03, -6.02913095e-03,\n",
       "        9.45831061e-03,  2.85165308e-03, -3.35125352e-03,  8.86478352e-03,\n",
       "       -8.08036549e-04, -2.93149448e-03, -3.24402045e-03, -3.96666092e-03,\n",
       "        3.50251192e-02,  2.33820313e-02,  7.61579308e-03,  2.58319955e-03,\n",
       "        2.06128215e-02, -1.15006873e-02, -7.47268212e-03, -2.95417170e-03,\n",
       "        1.25213727e-02, -2.92628360e-03,  1.16453537e-02, -1.25408350e-02,\n",
       "       -8.05623990e-03,  1.41410520e-02,  7.72553522e-03, -4.20706814e-03,\n",
       "       -3.47385549e-03,  1.59223943e-02, -3.52415143e-03, -4.00189314e-03,\n",
       "        1.86875082e-03,  5.31625767e-03, -7.88560487e-03,  9.44444687e-03,\n",
       "        1.01903373e-03,  1.43256827e-02, -6.41961206e-03,  1.47660411e-03,\n",
       "        5.06928008e-03,  1.10040375e-02,  5.35137480e-03,  1.65103130e-02,\n",
       "       -3.55001745e-03,  6.41309539e-03,  2.38956370e-03, -2.20740038e-03,\n",
       "        1.16804667e-02, -1.04962030e-03,  1.27835274e-02,  2.59222195e-04,\n",
       "        5.35888930e-03, -1.03172753e-03, -9.38046850e-03,  4.86502818e-03,\n",
       "        1.03744045e-02, -2.21615013e-02, -4.79524943e-02,  3.04229094e-02,\n",
       "        6.77902152e-03, -4.42101923e-02,  2.00223290e-02,  1.54488795e-02,\n",
       "        6.17517514e-03,  2.31252399e-02,  4.17305329e-03, -7.18562200e-03,\n",
       "        2.61674026e-04,  4.18447980e-03, -1.82311716e-03,  2.02643171e-02,\n",
       "        1.24457781e-02, -1.18717070e-02, -1.58486967e-02, -1.79219991e-02,\n",
       "       -9.69800099e-04,  1.53546057e-02,  8.69180611e-04, -3.73391586e-03,\n",
       "        8.72145619e-05,  2.87605882e-02, -3.21926749e-03, -1.19836330e-02,\n",
       "       -1.11828544e-02,  2.52284084e-03,  1.73556258e-03, -7.88286881e-03,\n",
       "        9.60420539e-04,  8.72364915e-04, -4.17466777e-02, -2.67393610e-02,\n",
       "        3.08382364e-02, -1.93999378e-02, -1.57149783e-03,  1.82408101e-02,\n",
       "       -1.92780819e-02,  1.37228496e-02,  1.51832917e-02,  1.31304781e-02,\n",
       "       -2.49374820e-02,  1.20084605e-02,  1.91123507e-02, -1.67985202e-02,\n",
       "        2.48599508e-02, -2.70795223e-02, -8.15975466e-04, -8.07549724e-03,\n",
       "        2.19539614e-02, -2.23770364e-03, -4.84449367e-03, -4.68756839e-03,\n",
       "       -3.80403405e-03,  1.00017213e-03, -6.35787871e-03, -5.66739802e-03,\n",
       "       -7.90576665e-03, -6.30099216e-03,  1.10965968e-02,  8.66921319e-03,\n",
       "        1.48120232e-02,  2.18039596e-02,  7.75935570e-03, -3.76234424e-03,\n",
       "        3.51363415e-04, -7.63842837e-03,  2.74258600e-03, -3.35256946e-03,\n",
       "       -1.62004533e-02,  9.17836640e-03,  7.66835711e-03, -4.60143217e-03,\n",
       "       -1.12008700e-02, -5.12454023e-03, -4.27436297e-02,  2.28453269e-02,\n",
       "       -1.23673122e-02,  1.29894447e-02,  4.61128217e-04, -5.62464755e-03,\n",
       "        2.33680543e-02,  3.98690004e-03,  2.79792777e-03, -2.52009315e-03,\n",
       "       -5.77449490e-03, -1.99663612e-03, -1.76412947e-02, -1.20328940e-03,\n",
       "        2.59498682e-03, -5.82363516e-03, -9.30907622e-05, -2.78844143e-04,\n",
       "       -1.63705855e-02, -9.07803469e-03,  6.68018232e-04, -1.54491553e-02,\n",
       "        1.63696245e-02, -6.95715044e-03,  8.44535243e-03, -1.39893345e-02,\n",
       "        6.50173297e-03,  3.27809910e-03,  3.09436484e-02, -6.15210886e-03,\n",
       "       -2.15714236e-03,  4.32354189e-03, -4.58571762e-03,  3.96766269e-02,\n",
       "       -7.23460755e-04,  9.32115747e-03, -1.47044484e-02,  1.26488375e-02,\n",
       "        1.86018529e-02,  7.05773700e-03,  9.02332263e-03, -2.86514610e-03,\n",
       "        1.02742626e-02,  6.03289925e-03, -1.52489305e-02,  6.17663103e-03,\n",
       "        4.23654389e-03,  8.09304087e-03,  2.56295283e-04,  3.67133514e-03,\n",
       "        2.04182675e-03, -7.72584727e-03, -9.83899011e-03, -1.58991792e-02,\n",
       "        6.67326055e-03, -8.28619169e-03,  9.41069994e-03, -1.30691144e-03,\n",
       "        6.10711312e-03, -3.03498929e-03, -2.08757305e-03, -4.35789030e-04,\n",
       "        1.77013488e-02, -4.88382839e-03, -3.27188907e-03, -4.92397156e-03,\n",
       "       -5.29559069e-03,  4.97468091e-03, -4.86323073e-03, -4.27603857e-03,\n",
       "        1.92810321e-03, -5.33596498e-03,  6.33198557e-03, -1.17975839e-02,\n",
       "        3.89091527e-03, -1.76143863e-04,  2.99556865e-03,  4.04080193e-03,\n",
       "        2.90464399e-02,  8.58690747e-03, -6.57511638e-03, -9.58853175e-03,\n",
       "       -2.82719931e-03, -1.17707785e-02, -4.34712312e-03, -1.46698903e-02,\n",
       "        5.84903985e-03,  4.14092875e-03,  9.38854499e-03,  9.01598699e-03,\n",
       "       -5.63893253e-03,  6.10722225e-03, -6.93727718e-03, -2.66328691e-02,\n",
       "       -2.99632291e-02, -1.09128759e-02, -5.70357928e-03,  2.14406429e-02,\n",
       "        1.11398603e-02, -1.58427811e-02, -1.66514270e-03, -1.43638448e-02,\n",
       "       -1.04363113e-02, -1.86223177e-02,  1.51999623e-02, -1.37325710e-02,\n",
       "        1.38270089e-02,  1.76442650e-02,  2.17432143e-02, -3.66846266e-04,\n",
       "       -5.50564673e-03,  6.55104422e-03,  4.67497817e-03,  1.71533067e-02,\n",
       "        8.07323231e-03, -9.69921038e-03, -2.10261595e-02,  5.87410043e-03,\n",
       "       -2.06221553e-02,  2.55287136e-02, -7.26845970e-04,  7.63707164e-03,\n",
       "       -2.14743699e-02, -7.46879557e-03, -9.19724821e-03,  2.44725587e-02,\n",
       "        4.21004541e-03,  1.11191719e-02, -7.93217148e-03,  1.02671963e-02,\n",
       "        9.44317692e-03, -4.46364519e-02, -1.90244850e-02, -1.80625893e-02,\n",
       "       -1.86851517e-02, -9.76725039e-03,  6.47596278e-03,  9.90029605e-04,\n",
       "       -8.20814885e-03, -1.27628940e-02, -4.74714104e-03, -1.26851718e-02,\n",
       "       -8.63398560e-03, -2.36391810e-02, -2.15567039e-02,  4.14584862e-02,\n",
       "        1.12548294e-02, -2.16407876e-03,  8.15869160e-03,  1.73119560e-02,\n",
       "       -1.42117818e-02,  3.68655562e-02,  6.95067963e-04, -1.88560938e-03,\n",
       "       -1.69032016e-03, -9.96769590e-05, -4.78132378e-03,  1.03092503e-02,\n",
       "        7.33111208e-03,  8.06449097e-03,  4.09749557e-03,  1.62262765e-02,\n",
       "       -1.57759800e-02, -2.52563375e-03,  5.84214577e-04,  6.32666946e-03,\n",
       "        4.73945236e-03,  2.79156223e-03,  2.30406229e-03, -8.71569992e-03,\n",
       "        3.67154237e-03,  3.56170360e-03, -4.41238702e-03, -4.81785819e-04,\n",
       "       -1.31096717e-02, -9.96287378e-03, -4.73556714e-03,  1.70499216e-02,\n",
       "        4.77579275e-03, -6.49916994e-03,  3.05604189e-02, -3.50542000e-03,\n",
       "        4.84886061e-03, -2.08163849e-03, -4.45622335e-03,  1.04761935e-02,\n",
       "       -7.63428093e-03, -1.23467111e-03, -7.60743561e-03,  6.70774259e-04,\n",
       "       -2.29824589e-03, -7.67929859e-04, -3.74592568e-03, -7.23102298e-03,\n",
       "        3.88514191e-04,  1.30084339e-02, -2.97078663e-03,  3.36408702e-03,\n",
       "        9.10044009e-03,  1.14866281e-02,  6.00658559e-03, -3.63836744e-03,\n",
       "       -2.13483409e-02, -1.57863868e-02, -3.02324879e-02, -8.31992540e-03,\n",
       "        1.00071630e-02, -3.40271538e-03,  1.13476399e-02,  5.16336406e-03,\n",
       "        3.36856120e-02,  4.77832490e-03,  1.99734454e-03,  9.66037976e-03,\n",
       "       -2.36823158e-03,  3.22865355e-03, -7.38300932e-03,  4.48170472e-03,\n",
       "        8.44897388e-03,  4.68792893e-02, -1.14197667e-02,  1.05511401e-02,\n",
       "        2.88030014e-02, -7.34911535e-03,  1.23389652e-03,  1.23237590e-03,\n",
       "       -1.67048134e-03,  5.28376796e-04,  7.56975863e-03,  1.44142710e-02,\n",
       "       -6.02753421e-04, -7.66916446e-03,  2.17094469e-03,  6.15191305e-03,\n",
       "       -8.87011092e-03, -1.63350589e-02, -5.29989185e-03, -7.99249806e-04,\n",
       "       -8.88245814e-05, -2.71975724e-02,  7.94885343e-03, -3.80712435e-03,\n",
       "        1.28298302e-02, -4.85134820e-03,  5.23610572e-03,  3.41268189e-03,\n",
       "       -8.14466017e-03, -1.96714954e-02,  9.84901575e-03, -1.08468412e-02,\n",
       "       -2.76439490e-03, -1.07189116e-02, -1.02745769e-02,  4.71871878e-03,\n",
       "        3.08096120e-02,  3.55388092e-03,  2.17934678e-03, -1.09631531e-02,\n",
       "        1.08097165e-02,  3.08147124e-03, -1.27394887e-02,  2.47096471e-03,\n",
       "        2.55610569e-03, -5.46335193e-03,  1.36421146e-02, -7.22604867e-03,\n",
       "        2.54757582e-03, -6.80650361e-03, -7.12717937e-03, -8.28265110e-03,\n",
       "        6.68145918e-03,  3.31856154e-03,  2.71959012e-02,  1.68156950e-02,\n",
       "        1.05568137e-03, -1.59292329e-03,  5.93864203e-03, -5.46305463e-03,\n",
       "        4.25270021e-03, -2.91134803e-03,  9.55583972e-03,  1.05170501e-02,\n",
       "       -1.21422391e-02,  1.07112206e-02, -9.81587627e-03,  5.96536182e-03,\n",
       "       -9.85426371e-03,  6.42940185e-03,  1.82899618e-02,  4.03926902e-03,\n",
       "       -9.58659182e-03,  4.40758485e-03, -3.18357128e-03, -2.24436413e-03,\n",
       "        3.54704018e-03, -2.63792540e-02, -8.85619107e-05, -2.97529841e-02,\n",
       "        7.84885567e-03, -2.17332070e-02,  1.69398024e-02, -1.09246300e-03,\n",
       "       -1.87715287e-02,  1.54159948e-02, -4.15218202e-02,  3.81672715e-03,\n",
       "        2.39544581e-02,  9.00483242e-03, -1.26966869e-02,  2.79558993e-03,\n",
       "        1.03150876e-02, -2.48345212e-02,  8.01748152e-03, -1.05737051e-02,\n",
       "        1.00246350e-02,  2.26591987e-02,  5.85979159e-03, -1.18333239e-02,\n",
       "        1.20670217e-02,  2.27542153e-02,  2.13577499e-03,  2.47758221e-02,\n",
       "        1.27383016e-02,  2.73807748e-03,  6.14387168e-03,  1.96759981e-02,\n",
       "       -8.89959089e-03, -4.95135722e-03,  1.00362779e-02, -3.17305484e-03,\n",
       "       -4.02073313e-03, -1.68245297e-04, -1.30382989e-02,  5.71036039e-03,\n",
       "       -8.22033531e-03,  5.89593239e-03, -2.54827967e-04, -1.81834039e-02,\n",
       "       -1.99048107e-02, -1.42401841e-03,  2.16596535e-02, -2.18111535e-03,\n",
       "       -2.22961223e-02,  7.24377800e-03,  1.40282759e-02,  1.68986759e-02,\n",
       "        2.66919527e-03,  3.01417130e-02, -2.33410621e-03,  5.59822413e-03,\n",
       "        1.74495757e-03,  2.48009581e-02,  1.00363834e-02,  2.64445310e-03,\n",
       "       -7.19332243e-04,  7.99804657e-03,  3.80866521e-03, -6.32319486e-04,\n",
       "       -5.53668830e-03, -6.44242684e-03,  2.30548187e-02,  7.98120275e-03,\n",
       "        2.17357069e-03,  1.54923050e-03,  5.41373058e-03,  2.92303912e-03,\n",
       "       -3.52818755e-03, -5.84967066e-03, -5.26481545e-03,  9.34027106e-04,\n",
       "        7.23162312e-03,  8.41514663e-03, -3.06363476e-04, -7.27507026e-03,\n",
       "        2.31416401e-03,  6.61900480e-03,  5.35211815e-03,  1.36884499e-03,\n",
       "        2.96197482e-03, -2.27175902e-03, -2.20097451e-03, -1.28545777e-02,\n",
       "        1.97257484e-02,  5.44055818e-03,  1.48804483e-02, -4.66535686e-03,\n",
       "        6.69667258e-04, -2.37924493e-03,  2.86183639e-02, -8.76691416e-03,\n",
       "        3.87391795e-03,  6.11626173e-03, -1.01319848e-03, -4.99840791e-03,\n",
       "       -8.00953299e-04, -2.91466986e-04,  2.76975477e-03,  1.06119614e-02,\n",
       "        7.19237838e-04, -3.66541597e-03,  5.55433380e-03,  1.21234398e-02,\n",
       "       -1.31964148e-02, -7.95159201e-04, -1.70005760e-02,  7.80091578e-03,\n",
       "        3.65123622e-03, -9.96788206e-03,  8.30443362e-03,  1.16618983e-02,\n",
       "       -1.49855961e-02,  3.87643830e-03,  6.92168579e-03, -9.84077408e-03,\n",
       "       -1.16926003e-03, -1.02432608e-03, -2.48278727e-02, -8.41151827e-03,\n",
       "        1.81776017e-02, -1.48771746e-03,  1.23668434e-02, -2.59769115e-02,\n",
       "        7.63074550e-03,  1.43959222e-02,  1.70005674e-02,  1.45445261e-04,\n",
       "       -3.19752418e-03,  4.15550285e-03,  1.88759950e-03, -8.69515023e-04,\n",
       "       -3.04612329e-03, -1.32402356e-02,  1.36390842e-02, -1.22191653e-02,\n",
       "       -2.68757499e-02, -4.46428320e-02,  3.00959946e-03, -4.16140052e-02,\n",
       "       -4.33385407e-02,  4.65936979e-02, -3.75246680e-02,  2.47092796e-02,\n",
       "       -4.90612620e-02, -5.16803092e-02, -1.35455208e-01,  7.76969049e-02,\n",
       "       -4.70705346e-02, -8.24301275e-02,  1.80124983e-01, -1.49648800e-01,\n",
       "        6.11136677e-02, -1.05268796e-01,  1.68077391e-02, -2.11019712e-02,\n",
       "       -5.35330041e-02,  1.18942227e-01,  3.73177322e-02,  6.96609365e-02,\n",
       "       -7.12394077e-02,  2.60069089e-02, -3.71123667e-02, -6.29790129e-02,\n",
       "        3.73400245e-02, -2.95577644e-02,  6.43663987e-02,  1.31902528e-02,\n",
       "        4.03795680e-02,  8.97136663e-02, -4.44725565e-02, -2.73958850e-02,\n",
       "       -4.93193613e-02, -3.81099126e-02,  8.98889021e-02, -3.64572494e-02,\n",
       "       -2.90044273e-02,  3.25651870e-03,  5.59693332e-04,  1.47667526e-02,\n",
       "        4.31044432e-02,  7.08093404e-03,  2.69703009e-02, -2.14592170e-02])"
      ]
     },
     "execution_count": 25,
     "metadata": {},
     "output_type": "execute_result"
    }
   ],
   "source": [
    "Y"
   ]
  },
  {
   "cell_type": "code",
   "execution_count": 26,
   "metadata": {},
   "outputs": [],
   "source": [
    "Y=np.asarray(Y)\n",
    "Y = Y.reshape(988,1)"
   ]
  },
  {
   "cell_type": "code",
   "execution_count": 27,
   "metadata": {},
   "outputs": [
    {
     "data": {
      "text/plain": [
       "array([[ 1.01887568e-03, -4.19300672e-05,  2.00995883e-05,\n",
       "         1.03824946e-04, -8.42850151e-06, -3.75272411e-05],\n",
       "       [-4.19300672e-05,  7.49806490e-04, -9.47824473e-05,\n",
       "        -4.14034357e-04,  8.77001608e-04,  7.21231942e-05],\n",
       "       [ 2.00995883e-05, -9.47824473e-05,  3.23855089e-03,\n",
       "        -1.07975380e-03,  1.24248106e-03,  8.35295985e-04],\n",
       "       [ 1.03824946e-04, -4.14034357e-04, -1.07975380e-03,\n",
       "         3.33765832e-03, -3.37500701e-03, -5.50728082e-04],\n",
       "       [-8.42850151e-06,  8.77001608e-04,  1.24248106e-03,\n",
       "        -3.37500701e-03,  1.20288855e-02,  5.26375356e-04],\n",
       "       [-3.75272411e-05,  7.21231942e-05,  8.35295985e-04,\n",
       "        -5.50728082e-04,  5.26375356e-04,  7.73637329e-03]])"
      ]
     },
     "execution_count": 27,
     "metadata": {},
     "output_type": "execute_result"
    }
   ],
   "source": [
    "'OLS REGRESSION STARTS'\n",
    "'Linear Regression of Y: T x 1 on'\n",
    "'Regressors X: T x N'\n",
    "invXX = np.linalg.inv(X.transpose()@X)\n",
    "invXX"
   ]
  },
  {
   "cell_type": "code",
   "execution_count": 28,
   "metadata": {},
   "outputs": [
    {
     "data": {
      "text/plain": [
       "(6, 6)"
      ]
     },
     "execution_count": 28,
     "metadata": {},
     "output_type": "execute_result"
    }
   ],
   "source": [
    "invXX.shape"
   ]
  },
  {
   "cell_type": "code",
   "execution_count": 29,
   "metadata": {},
   "outputs": [
    {
     "data": {
      "text/plain": [
       "array([[ 0.00070047],\n",
       "       [ 0.01067901],\n",
       "       [-0.00279426],\n",
       "       [ 0.01351795],\n",
       "       [-0.00756403],\n",
       "       [-0.00381171]])"
      ]
     },
     "execution_count": 29,
     "metadata": {},
     "output_type": "execute_result"
    }
   ],
   "source": [
    "'OLS estimates for coefficients: X x 1'\n",
    "beta_hat = invXX@X.transpose()@Y\n",
    "beta_hat"
   ]
  },
  {
   "cell_type": "code",
   "execution_count": 30,
   "metadata": {},
   "outputs": [
    {
     "data": {
      "text/plain": [
       "(988, 1)"
      ]
     },
     "execution_count": 30,
     "metadata": {},
     "output_type": "execute_result"
    }
   ],
   "source": [
    "'Predictive value of Y using OLS'\n",
    "y_hat = X@beta_hat\n",
    "y_hat.shape"
   ]
  },
  {
   "cell_type": "code",
   "execution_count": 31,
   "metadata": {},
   "outputs": [
    {
     "data": {
      "text/plain": [
       "(988, 1)"
      ]
     },
     "execution_count": 31,
     "metadata": {},
     "output_type": "execute_result"
    }
   ],
   "source": [
    "'Residuals from OLS'\n",
    "residuals = Y - y_hat\n",
    "residuals.shape"
   ]
  },
  {
   "cell_type": "code",
   "execution_count": 32,
   "metadata": {},
   "outputs": [
    {
     "data": {
      "text/plain": [
       "array([[4.5808595e-05]])"
      ]
     },
     "execution_count": 32,
     "metadata": {},
     "output_type": "execute_result"
    }
   ],
   "source": [
    "'Variance of residuals'\n",
    "variance = (1/T)*residuals.transpose()@residuals\n",
    "variance"
   ]
  },
  {
   "cell_type": "code",
   "execution_count": 33,
   "metadata": {},
   "outputs": [],
   "source": [
    "'standard deviation of Y or residuals'\n",
    "standard_deviation = np.sqrt(variance)"
   ]
  },
  {
   "cell_type": "code",
   "execution_count": 34,
   "metadata": {},
   "outputs": [],
   "source": [
    "'variance-covariance matrix of beta_hat'\n",
    "varcov_beta_hat = (variance)*invXX\n",
    "std_beta_hat = np.sqrt(T*np.diag(varcov_beta_hat))\n"
   ]
  },
  {
   "cell_type": "code",
   "execution_count": 35,
   "metadata": {},
   "outputs": [],
   "source": [
    "N = X.shape"
   ]
  },
  {
   "cell_type": "code",
   "execution_count": 36,
   "metadata": {},
   "outputs": [
    {
     "name": "stdout",
     "output_type": "stream",
     "text": [
      "[[0.86361743]]\n",
      "[[0.86292302]]\n"
     ]
    }
   ],
   "source": [
    "\n",
    "'Calculate R-square'\n",
    "R_square = 1- (residuals.transpose()@residuals)/(T*np.var(Y))\n",
    "adj_R_square = 1-(1-R_square)*(T-1)/(T-N[1])\n",
    "print(R_square)\n",
    "print(adj_R_square)\n"
   ]
  },
  {
   "cell_type": "code",
   "execution_count": 37,
   "metadata": {},
   "outputs": [],
   "source": [
    "'Test Each Coefficient: beta_i'\n",
    "'Null Hypothesis: beta_i = 0'\n",
    "t_stat = (beta_hat.transpose()-0)/std_beta_hat\n",
    "p_val_t = 1-ss.norm.cdf(t_stat)\n"
   ]
  },
  {
   "cell_type": "code",
   "execution_count": 38,
   "metadata": {},
   "outputs": [
    {
     "data": {
      "text/plain": [
       "array([[1.11022302e-16]])"
      ]
     },
     "execution_count": 38,
     "metadata": {},
     "output_type": "execute_result"
    }
   ],
   "source": [
    "'Test of Joint Significance of Model'\n",
    "F_stat = (beta_hat.transpose()@np.linalg.inv(varcov_beta_hat)@beta_hat/N[1])/\\\n",
    "         (residuals.transpose()@residuals/(T-N[1]))\n",
    "\n",
    "p_val_F = 1-ss.f.cdf(F_stat,N[1]-1,T-N[1])\n",
    "\n",
    "p_val_F"
   ]
  },
  {
   "cell_type": "code",
   "execution_count": 39,
   "metadata": {},
   "outputs": [],
   "source": [
    "def print_all_values():\n",
    "    print('Variance-------------',variance)\n",
    "    print('Standard Deviation---',standard_deviation)\n",
    "    print('R Square-------------',R_square)\n",
    "    print('Adjusted R Square----',adj_R_square)\n",
    "    print('P values-------------',p_val_t,p_val_F)\n",
    "    plt.plot(y_hat, color='green')\n",
    "    plt.plot(Y, color = 'red')\n",
    "    plt.show()\n"
   ]
  },
  {
   "cell_type": "code",
   "execution_count": 40,
   "metadata": {},
   "outputs": [
    {
     "name": "stdout",
     "output_type": "stream",
     "text": [
      "Variance------------- [[4.5808595e-05]]\n",
      "Standard Deviation--- [[0.0067682]]\n",
      "R Square------------- [[0.86361743]]\n",
      "Adjusted R Square---- [[0.86292302]]\n",
      "P values------------- [[0.45892123 0.03338808 0.59126551 0.13569631 0.62709985 0.58070748]] [[1.11022302e-16]]\n"
     ]
    },
    {
     "data": {
      "image/png": "[encoded data removed]",
      "text/plain": [
       "<Figure size 432x288 with 1 Axes>"
      ]
     },
     "metadata": {
      "needs_background": "light"
     },
     "output_type": "display_data"
    }
   ],
   "source": [
    "print_all_values()"
   ]
  },
  {
   "cell_type": "code",
   "execution_count": 41,
   "metadata": {},
   "outputs": [
    {
     "data": {
      "text/plain": [
       "<matplotlib.axes._subplots.AxesSubplot at 0x216e0f190c8>"
      ]
     },
     "execution_count": 41,
     "metadata": {},
     "output_type": "execute_result"
    },
    {
     "data": {
      "image/png": "[encoded data removed]",
      "text/plain": [
       "<Figure size 1296x360 with 1 Axes>"
      ]
     },
     "metadata": {
      "needs_background": "light"
     },
     "output_type": "display_data"
    }
   ],
   "source": [
    "pred = pd.DataFrame(y_hat)\n",
    "act = pd.DataFrame(Y)\n",
    "\n",
    "plot_df = pd.DataFrame({\"actual\": act[0], \"predictions\": pred[0]})\n",
    "plot_df.plot(figsize=(18, 5), title='Predictions using Linear Regression')"
   ]
  },
  {
   "cell_type": "code",
   "execution_count": 42,
   "metadata": {},
   "outputs": [],
   "source": [
    "from sklearn.metrics import mean_squared_error \n",
    "from sklearn.metrics import r2_score\n",
    "mse = mean_squared_error(Y, y_hat)\n",
    "rmse = np.sqrt(mse)"
   ]
  },
  {
   "cell_type": "code",
   "execution_count": 43,
   "metadata": {},
   "outputs": [
    {
     "data": {
      "text/plain": [
       "0.006768204706594873"
      ]
     },
     "execution_count": 43,
     "metadata": {},
     "output_type": "execute_result"
    }
   ],
   "source": [
    "rmse"
   ]
  },
  {
   "cell_type": "code",
   "execution_count": null,
   "metadata": {},
   "outputs": [],
   "source": []
  }
 ],
 "metadata": {
  "kernelspec": {
   "display_name": "Python 3",
   "language": "python",
   "name": "python3"
  },
  "language_info": {
   "codemirror_mode": {
    "name": "ipython",
    "version": 3
   },
   "file_extension": ".py",
   "mimetype": "text/x-python",
   "name": "python",
   "nbconvert_exporter": "python",
   "pygments_lexer": "ipython3",
   "version": "3.7.6"
  }
 },
 "nbformat": 4,
 "nbformat_minor": 4
}
